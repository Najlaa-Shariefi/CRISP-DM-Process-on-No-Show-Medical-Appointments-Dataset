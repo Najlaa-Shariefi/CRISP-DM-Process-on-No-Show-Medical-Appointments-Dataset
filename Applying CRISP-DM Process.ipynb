{
 "cells": [
  {
   "cell_type": "markdown",
   "metadata": {},
   "source": [
    "\n",
    "\n",
    "# Applying CRISP-DM Process on \"No-Show\" Medical Appointments Dataset\n",
    "\n",
    "## Table of Contents\n",
    "<ul>\n",
    "<li><a href=\"#intro\">Introduction</a></li>\n",
    "<li><a href=\"#crisp\">CRISP-DM Process</a></li>\n",
    "<li><a href=\"#step1\">Step 1: Business Understanding</a></li>\n",
    "<li><a href=\"#step2\">Step 2: Data Understanding</a></li>\n",
    "<li><a href=\"#step3\">Step 3: Prepare Data</a></li>\n",
    "<li><a href=\"#step4\">Step 4: Data Modeling</a></li>\n",
    "<li><a href=\"#step5\">Step 5: Evaluation</a></li>\n",
    "<li><a href=\"#step6\">Step 6: Deployment</a></li>\n",
    "<li><a href=\"#resources\">Resources</a></li>\n",
    "</ul>"
   ]
  },
  {
   "cell_type": "markdown",
   "metadata": {},
   "source": [
    "<a id='intro'></a>\n",
    "## Introduction\n",
    "\n",
    "This project is my implementation of the **\"CRISP-DM Process\"** to create a blog and a Github post to show off my skills in  the Data Analysis.\n",
    "\n",
    "#### CRISP-DM Process:\n",
    "- **Step 1: Business Understanding**\n",
    "- **Step 2: Data Understanding**\n",
    "- **Step 3: Prepare Data**\n",
    "- **Step 4: Data Modeling**\n",
    "- **Step 5: Evaluation**\n",
    "- **Step 6: Deployment**\n",
    "\n",
    "\n",
    "#### About the Data \n",
    "The dataset that is under investigation,\"No-Show\" Appointments Dataset,is a set of information collected from 100k medical appointments in Brazil and is focused on the question of whether or not patients show up for their appointments. Several characteristics about a patient are included in each row such as Gender, Age, Neighbourhood as well as the patient's primary health designation(s) including Hypertension, Diabetes, Alcoholism, and whether the patient is handicapped or not. A period of six months of appointments' data has been investigated below. "
   ]
  },
  {
   "cell_type": "markdown",
   "metadata": {},
   "source": [
    "<a id='crisp'></a>\n",
    "## CRISP-DM Process: "
   ]
  },
  {
   "cell_type": "markdown",
   "metadata": {},
   "source": [
    "<a id='step1'></a>\n",
    "## Step 1: Business Understanding \n",
    "**The following are the Questions we are interested in tackling and trying to answer:**\n",
    "- Are there specific days of the week where no-show appointments occurrences increase?  \n",
    "- Does the Number of  Awaiting Days,between Scheduled Date and Appointment Date, affect the probability of a patient to miss his/her appointment? Do patients with a greater Number of  Awaiting Days tend to miss their appointments more than those with fewer Awaiting Days?   What is the correlation between the Number of  Awaiting Days and the probability of a patient's Not-Showing up for the appointment?\n",
    "- Do patients receiving SMS reminders have more probability to show up for their appointments than those who have not received the SMS reminders?"
   ]
  },
  {
   "cell_type": "markdown",
   "metadata": {},
   "source": [
    "<a id='step2'></a>\n",
    "## Step 2: Data Understanding\n",
    "### During this step we will be performing the First two steps of the data science process :\n",
    "- **Gather** \n",
    "- **Assess**"
   ]
  },
  {
   "cell_type": "code",
   "execution_count": 1,
   "metadata": {},
   "outputs": [],
   "source": [
    "# importing the neccessary packages and libraries\n",
    "import pandas as pd \n",
    "import numpy as np\n",
    "import matplotlib.pyplot as plt\n",
    "from datetime import datetime as dt\n",
    "\n",
    "%matplotlib inline"
   ]
  },
  {
   "cell_type": "code",
   "execution_count": 2,
   "metadata": {},
   "outputs": [],
   "source": [
    "#loading Data\n",
    "df=pd.read_csv('no-show-appointments.csv')"
   ]
  },
  {
   "cell_type": "code",
   "execution_count": 3,
   "metadata": {
    "scrolled": true
   },
   "outputs": [
    {
     "data": {
      "text/html": [
       "<div>\n",
       "<style scoped>\n",
       "    .dataframe tbody tr th:only-of-type {\n",
       "        vertical-align: middle;\n",
       "    }\n",
       "\n",
       "    .dataframe tbody tr th {\n",
       "        vertical-align: top;\n",
       "    }\n",
       "\n",
       "    .dataframe thead th {\n",
       "        text-align: right;\n",
       "    }\n",
       "</style>\n",
       "<table border=\"1\" class=\"dataframe\">\n",
       "  <thead>\n",
       "    <tr style=\"text-align: right;\">\n",
       "      <th></th>\n",
       "      <th>PatientId</th>\n",
       "      <th>AppointmentID</th>\n",
       "      <th>Gender</th>\n",
       "      <th>ScheduledDay</th>\n",
       "      <th>AppointmentDay</th>\n",
       "      <th>Age</th>\n",
       "      <th>Neighbourhood</th>\n",
       "      <th>Scholarship</th>\n",
       "      <th>Hipertension</th>\n",
       "      <th>Diabetes</th>\n",
       "      <th>Alcoholism</th>\n",
       "      <th>Handcap</th>\n",
       "      <th>SMS_received</th>\n",
       "      <th>No-show</th>\n",
       "    </tr>\n",
       "  </thead>\n",
       "  <tbody>\n",
       "    <tr>\n",
       "      <th>0</th>\n",
       "      <td>2.987250e+13</td>\n",
       "      <td>5642903</td>\n",
       "      <td>F</td>\n",
       "      <td>2016-04-29T18:38:08Z</td>\n",
       "      <td>2016-04-29T00:00:00Z</td>\n",
       "      <td>62</td>\n",
       "      <td>JARDIM DA PENHA</td>\n",
       "      <td>0</td>\n",
       "      <td>1</td>\n",
       "      <td>0</td>\n",
       "      <td>0</td>\n",
       "      <td>0</td>\n",
       "      <td>0</td>\n",
       "      <td>No</td>\n",
       "    </tr>\n",
       "    <tr>\n",
       "      <th>1</th>\n",
       "      <td>5.589978e+14</td>\n",
       "      <td>5642503</td>\n",
       "      <td>M</td>\n",
       "      <td>2016-04-29T16:08:27Z</td>\n",
       "      <td>2016-04-29T00:00:00Z</td>\n",
       "      <td>56</td>\n",
       "      <td>JARDIM DA PENHA</td>\n",
       "      <td>0</td>\n",
       "      <td>0</td>\n",
       "      <td>0</td>\n",
       "      <td>0</td>\n",
       "      <td>0</td>\n",
       "      <td>0</td>\n",
       "      <td>No</td>\n",
       "    </tr>\n",
       "    <tr>\n",
       "      <th>2</th>\n",
       "      <td>4.262962e+12</td>\n",
       "      <td>5642549</td>\n",
       "      <td>F</td>\n",
       "      <td>2016-04-29T16:19:04Z</td>\n",
       "      <td>2016-04-29T00:00:00Z</td>\n",
       "      <td>62</td>\n",
       "      <td>MATA DA PRAIA</td>\n",
       "      <td>0</td>\n",
       "      <td>0</td>\n",
       "      <td>0</td>\n",
       "      <td>0</td>\n",
       "      <td>0</td>\n",
       "      <td>0</td>\n",
       "      <td>No</td>\n",
       "    </tr>\n",
       "    <tr>\n",
       "      <th>3</th>\n",
       "      <td>8.679512e+11</td>\n",
       "      <td>5642828</td>\n",
       "      <td>F</td>\n",
       "      <td>2016-04-29T17:29:31Z</td>\n",
       "      <td>2016-04-29T00:00:00Z</td>\n",
       "      <td>8</td>\n",
       "      <td>PONTAL DE CAMBURI</td>\n",
       "      <td>0</td>\n",
       "      <td>0</td>\n",
       "      <td>0</td>\n",
       "      <td>0</td>\n",
       "      <td>0</td>\n",
       "      <td>0</td>\n",
       "      <td>No</td>\n",
       "    </tr>\n",
       "    <tr>\n",
       "      <th>4</th>\n",
       "      <td>8.841186e+12</td>\n",
       "      <td>5642494</td>\n",
       "      <td>F</td>\n",
       "      <td>2016-04-29T16:07:23Z</td>\n",
       "      <td>2016-04-29T00:00:00Z</td>\n",
       "      <td>56</td>\n",
       "      <td>JARDIM DA PENHA</td>\n",
       "      <td>0</td>\n",
       "      <td>1</td>\n",
       "      <td>1</td>\n",
       "      <td>0</td>\n",
       "      <td>0</td>\n",
       "      <td>0</td>\n",
       "      <td>No</td>\n",
       "    </tr>\n",
       "  </tbody>\n",
       "</table>\n",
       "</div>"
      ],
      "text/plain": [
       "      PatientId  AppointmentID Gender          ScheduledDay  \\\n",
       "0  2.987250e+13        5642903      F  2016-04-29T18:38:08Z   \n",
       "1  5.589978e+14        5642503      M  2016-04-29T16:08:27Z   \n",
       "2  4.262962e+12        5642549      F  2016-04-29T16:19:04Z   \n",
       "3  8.679512e+11        5642828      F  2016-04-29T17:29:31Z   \n",
       "4  8.841186e+12        5642494      F  2016-04-29T16:07:23Z   \n",
       "\n",
       "         AppointmentDay  Age      Neighbourhood  Scholarship  Hipertension  \\\n",
       "0  2016-04-29T00:00:00Z   62    JARDIM DA PENHA            0             1   \n",
       "1  2016-04-29T00:00:00Z   56    JARDIM DA PENHA            0             0   \n",
       "2  2016-04-29T00:00:00Z   62      MATA DA PRAIA            0             0   \n",
       "3  2016-04-29T00:00:00Z    8  PONTAL DE CAMBURI            0             0   \n",
       "4  2016-04-29T00:00:00Z   56    JARDIM DA PENHA            0             1   \n",
       "\n",
       "   Diabetes  Alcoholism  Handcap  SMS_received No-show  \n",
       "0         0           0        0             0      No  \n",
       "1         0           0        0             0      No  \n",
       "2         0           0        0             0      No  \n",
       "3         0           0        0             0      No  \n",
       "4         1           0        0             0      No  "
      ]
     },
     "execution_count": 3,
     "metadata": {},
     "output_type": "execute_result"
    }
   ],
   "source": [
    "# displaying the first five rows of the dataset\n",
    "df.head()"
   ]
  },
  {
   "cell_type": "code",
   "execution_count": 4,
   "metadata": {},
   "outputs": [
    {
     "data": {
      "text/plain": [
       "(110527, 14)"
      ]
     },
     "execution_count": 4,
     "metadata": {},
     "output_type": "execute_result"
    }
   ],
   "source": [
    "# checking the number of rows and columns of the dataset\n",
    "df.shape"
   ]
  },
  {
   "cell_type": "code",
   "execution_count": 5,
   "metadata": {},
   "outputs": [
    {
     "data": {
      "text/plain": [
       "Index(['PatientId', 'AppointmentID', 'Gender', 'ScheduledDay',\n",
       "       'AppointmentDay', 'Age', 'Neighbourhood', 'Scholarship', 'Hipertension',\n",
       "       'Diabetes', 'Alcoholism', 'Handcap', 'SMS_received', 'No-show'],\n",
       "      dtype='object')"
      ]
     },
     "execution_count": 5,
     "metadata": {},
     "output_type": "execute_result"
    }
   ],
   "source": [
    "#checking the columns' labels\n",
    "df.columns"
   ]
  },
  {
   "cell_type": "code",
   "execution_count": 6,
   "metadata": {},
   "outputs": [
    {
     "data": {
      "text/plain": [
       "PatientId         float64\n",
       "AppointmentID       int64\n",
       "Gender             object\n",
       "ScheduledDay       object\n",
       "AppointmentDay     object\n",
       "Age                 int64\n",
       "Neighbourhood      object\n",
       "Scholarship         int64\n",
       "Hipertension        int64\n",
       "Diabetes            int64\n",
       "Alcoholism          int64\n",
       "Handcap             int64\n",
       "SMS_received        int64\n",
       "No-show            object\n",
       "dtype: object"
      ]
     },
     "execution_count": 6,
     "metadata": {},
     "output_type": "execute_result"
    }
   ],
   "source": [
    "# checking the data types of the columns\n",
    "df.dtypes"
   ]
  },
  {
   "cell_type": "code",
   "execution_count": 7,
   "metadata": {},
   "outputs": [
    {
     "data": {
      "text/plain": [
       "PatientId         0\n",
       "AppointmentID     0\n",
       "Gender            0\n",
       "ScheduledDay      0\n",
       "AppointmentDay    0\n",
       "Age               0\n",
       "Neighbourhood     0\n",
       "Scholarship       0\n",
       "Hipertension      0\n",
       "Diabetes          0\n",
       "Alcoholism        0\n",
       "Handcap           0\n",
       "SMS_received      0\n",
       "No-show           0\n",
       "dtype: int64"
      ]
     },
     "execution_count": 7,
     "metadata": {},
     "output_type": "execute_result"
    }
   ],
   "source": [
    "# checking which columns have missing values \n",
    "df.isnull().sum()"
   ]
  },
  {
   "cell_type": "code",
   "execution_count": 8,
   "metadata": {},
   "outputs": [
    {
     "data": {
      "text/plain": [
       "0"
      ]
     },
     "execution_count": 8,
     "metadata": {},
     "output_type": "execute_result"
    }
   ],
   "source": [
    "# checking the total number of duplicated rows \n",
    "df.duplicated().sum()"
   ]
  },
  {
   "cell_type": "code",
   "execution_count": 9,
   "metadata": {},
   "outputs": [
    {
     "name": "stdout",
     "output_type": "stream",
     "text": [
      "Age: [-1, 0, 1, 2, 3, 4, 5, 6, 7, 8, 9, 10, 11, 12, 13, 14, 15, 16, 17, 18, 19, 20, 21, 22, 23, 24, 25, 26, 27, 28, 29, 30, 31, 32, 33, 34, 35, 36, 37, 38, 39, 40, 41, 42, 43, 44, 45, 46, 47, 48, 49, 50, 51, 52, 53, 54, 55, 56, 57, 58, 59, 60, 61, 62, 63, 64, 65, 66, 67, 68, 69, 70, 71, 72, 73, 74, 75, 76, 77, 78, 79, 80, 81, 82, 83, 84, 85, 86, 87, 88, 89, 90, 91, 92, 93, 94, 95, 96, 97, 98, 99, 100, 102, 115]\n",
      "Gender: ['F' 'M']\n",
      "Hipertension: [1 0]\n",
      "Diabetes: [0 1]\n",
      "Alcoholism: [0 1]\n",
      "Handcap: [0 1 2 3 4]\n",
      "SMS_received: [0 1]\n",
      "No-show: ['No' 'Yes']\n"
     ]
    }
   ],
   "source": [
    "# checking for erroneous values\n",
    "print('Age:',sorted(df.Age.unique())) # sort the ages to make it easier for outlier checking\n",
    "print('Gender:',df.Gender.unique())\n",
    "print('Hipertension:',df.Hipertension.unique())\n",
    "print('Diabetes:',df.Diabetes.unique())\n",
    "print('Alcoholism:',df.Alcoholism.unique())\n",
    "print('Handcap:',df.Handcap.unique())\n",
    "print('SMS_received:',df.SMS_received.unique())\n",
    "print('No-show:',df['No-show'].unique())"
   ]
  },
  {
   "cell_type": "markdown",
   "metadata": {},
   "source": [
    "### Exploratory Visuals "
   ]
  },
  {
   "cell_type": "code",
   "execution_count": 10,
   "metadata": {},
   "outputs": [
    {
     "data": {
      "image/png": "[encoded data removed]",
      "text/plain": [
       "<Figure size 432x288 with 1 Axes>"
      ]
     },
     "metadata": {
      "needs_background": "light"
     },
     "output_type": "display_data"
    }
   ],
   "source": [
    "# plotting the gender of the patients \n",
    "df['Gender'].value_counts().plot(kind='bar');"
   ]
  },
  {
   "cell_type": "code",
   "execution_count": 11,
   "metadata": {},
   "outputs": [
    {
     "data": {
      "image/png": "[encoded data removed]",
      "text/plain": [
       "<Figure size 432x288 with 1 Axes>"
      ]
     },
     "metadata": {
      "needs_background": "light"
     },
     "output_type": "display_data"
    }
   ],
   "source": [
    "# plotting the petients' Age Distribution\n",
    "df['Age'].plot(kind='hist');"
   ]
  },
  {
   "cell_type": "code",
   "execution_count": 12,
   "metadata": {},
   "outputs": [
    {
     "data": {
      "image/png": "[encoded data removed]",
      "text/plain": [
       "<Figure size 432x288 with 1 Axes>"
      ]
     },
     "metadata": {
      "needs_background": "light"
     },
     "output_type": "display_data"
    }
   ],
   "source": [
    "# plotting the gender of the patients \n",
    "df['Hipertension'].value_counts().plot(kind='bar');"
   ]
  },
  {
   "cell_type": "code",
   "execution_count": 13,
   "metadata": {},
   "outputs": [
    {
     "data": {
      "image/png": "[encoded data removed]",
      "text/plain": [
       "<Figure size 432x288 with 1 Axes>"
      ]
     },
     "metadata": {
      "needs_background": "light"
     },
     "output_type": "display_data"
    }
   ],
   "source": [
    "# getting the proportions of different levels of handicapped patients\n",
    "(df['Handcap'].value_counts()/df.shape[0]).plot(kind=\"bar\");\n",
    "plt.title(\"What is the porportion of each handicapped level of patients do we have?\");\n",
    "plt.ylabel(\"Proportion\");"
   ]
  },
  {
   "cell_type": "code",
   "execution_count": 14,
   "metadata": {},
   "outputs": [
    {
     "data": {
      "image/png": "[encoded data removed]",
      "text/plain": [
       "<Figure size 432x288 with 1 Axes>"
      ]
     },
     "metadata": {
      "needs_background": "light"
     },
     "output_type": "display_data"
    }
   ],
   "source": [
    "# getting the percentages of patients who recieved SMS and who did not\n",
    "((df['SMS_received'].value_counts()/df.shape[0])*100).plot(kind=\"bar\");\n",
    "plt.ylabel(\"Percentages (%)\");"
   ]
  },
  {
   "cell_type": "code",
   "execution_count": 15,
   "metadata": {},
   "outputs": [
    {
     "data": {
      "image/png": "[encoded data removed]",
      "text/plain": [
       "<Figure size 432x288 with 1 Axes>"
      ]
     },
     "metadata": {
      "needs_background": "light"
     },
     "output_type": "display_data"
    }
   ],
   "source": [
    "# getting percentages of patients who attended their appointments and those who missed them\n",
    "((df['No-show'].value_counts()/df.shape[0])*100).plot(kind=\"bar\");\n",
    "plt.ylabel(\"Percentages (%)\");\n",
    "plt.xlabel(\"Missed Appointment\");"
   ]
  },
  {
   "cell_type": "markdown",
   "metadata": {},
   "source": [
    "<a id='step3'></a>\n",
    "## Step 3: Prepare Data\n",
    "\n",
    "### During this step we will be performing the Third step of the data science process :\n",
    "- **clean**"
   ]
  },
  {
   "cell_type": "markdown",
   "metadata": {},
   "source": [
    "### 1)   Fix the Columns'  Labels"
   ]
  },
  {
   "cell_type": "markdown",
   "metadata": {},
   "source": [
    "##### 1. Lower Case all the Columns' Labels"
   ]
  },
  {
   "cell_type": "code",
   "execution_count": 16,
   "metadata": {},
   "outputs": [],
   "source": [
    "df.rename(columns=lambda x: x.strip().lower(), inplace=True)"
   ]
  },
  {
   "cell_type": "markdown",
   "metadata": {},
   "source": [
    "##### 2. Replacing any dash(-) with underscore( _ ) to facilitate working on the dataset"
   ]
  },
  {
   "cell_type": "code",
   "execution_count": 17,
   "metadata": {},
   "outputs": [],
   "source": [
    "df.rename(columns=lambda x: x.replace(\"-\", \"_\"), inplace=True)"
   ]
  },
  {
   "cell_type": "markdown",
   "metadata": {},
   "source": [
    "##### 3. Adding \" _ \" if the column's Label Originally Consists of Two Words and Correcting Typoes (spelling mistakes)"
   ]
  },
  {
   "cell_type": "code",
   "execution_count": 18,
   "metadata": {},
   "outputs": [],
   "source": [
    "df.rename(columns={'patientid':'patient_id', 'appointmentid':'appointment_id', 'scheduledday':'scheduled_day', \n",
    "                   'appointmentday':'appointment_day', 'hipertension':'hypertension', 'handcap':'handicap',\n",
    "                   'sms_received':'SMS_received'}, inplace = True)"
   ]
  },
  {
   "cell_type": "markdown",
   "metadata": {},
   "source": [
    "##### 4. Renaming the 'no_show' column to be  'appointment_missed' , since the current label is confusing"
   ]
  },
  {
   "cell_type": "code",
   "execution_count": 19,
   "metadata": {},
   "outputs": [],
   "source": [
    "df.rename(columns={'no_show':'appointment_missed'}, inplace = True)"
   ]
  },
  {
   "cell_type": "code",
   "execution_count": 20,
   "metadata": {},
   "outputs": [
    {
     "name": "stdout",
     "output_type": "stream",
     "text": [
      "0 patient_id\n",
      "1 appointment_id\n",
      "2 gender\n",
      "3 scheduled_day\n",
      "4 appointment_day\n",
      "5 age\n",
      "6 neighbourhood\n",
      "7 scholarship\n",
      "8 hypertension\n",
      "9 diabetes\n",
      "10 alcoholism\n",
      "11 handicap\n",
      "12 SMS_received\n",
      "13 appointment_missed\n"
     ]
    }
   ],
   "source": [
    "# printing the columns' labels to confirm that the changes have been correctly applied\n",
    "for i, v in enumerate(df.columns):\n",
    "    print(i, v)"
   ]
  },
  {
   "cell_type": "markdown",
   "metadata": {},
   "source": [
    "### 2) Fix the Columns'  Data Types"
   ]
  },
  {
   "cell_type": "markdown",
   "metadata": {},
   "source": [
    "##### 1. Changing the data type of 'patient_id' column to 'int64' instead of being 'float64'"
   ]
  },
  {
   "cell_type": "code",
   "execution_count": 21,
   "metadata": {},
   "outputs": [],
   "source": [
    "df.patient_id = df['patient_id'].astype(np.int64)"
   ]
  },
  {
   "cell_type": "markdown",
   "metadata": {},
   "source": [
    "##### 2. Changing the data types of 'scheduled_day' and 'appointment_day'  from 'object' to 'Datetime' to facilitate working on them later on"
   ]
  },
  {
   "cell_type": "code",
   "execution_count": 22,
   "metadata": {},
   "outputs": [],
   "source": [
    "df.scheduled_day   = df.scheduled_day.apply(np.datetime64)\n",
    "df.appointment_day = df.appointment_day.apply(np.datetime64)"
   ]
  },
  {
   "cell_type": "code",
   "execution_count": 23,
   "metadata": {},
   "outputs": [
    {
     "data": {
      "text/plain": [
       "patient_id                     int64\n",
       "appointment_id                 int64\n",
       "gender                        object\n",
       "scheduled_day         datetime64[ns]\n",
       "appointment_day       datetime64[ns]\n",
       "age                            int64\n",
       "neighbourhood                 object\n",
       "scholarship                    int64\n",
       "hypertension                   int64\n",
       "diabetes                       int64\n",
       "alcoholism                     int64\n",
       "handicap                       int64\n",
       "SMS_received                   int64\n",
       "appointment_missed            object\n",
       "dtype: object"
      ]
     },
     "execution_count": 23,
     "metadata": {},
     "output_type": "execute_result"
    }
   ],
   "source": [
    "# confirming Datatype Changes\n",
    "df.dtypes"
   ]
  },
  {
   "cell_type": "markdown",
   "metadata": {},
   "source": [
    "### 3) Enhancing the Values of some Columns"
   ]
  },
  {
   "cell_type": "markdown",
   "metadata": {},
   "source": [
    "##### 1. Stripping Time from 'scheduled_day' and 'appointment_day' Columns, so that we are only left with the Date "
   ]
  },
  {
   "cell_type": "code",
   "execution_count": 24,
   "metadata": {},
   "outputs": [],
   "source": [
    "df['scheduled_day'] = df['scheduled_day'].dt.date\n",
    "df['appointment_day'] = df['appointment_day'].dt.date"
   ]
  },
  {
   "cell_type": "code",
   "execution_count": 25,
   "metadata": {
    "scrolled": false
   },
   "outputs": [
    {
     "data": {
      "text/html": [
       "<div>\n",
       "<style scoped>\n",
       "    .dataframe tbody tr th:only-of-type {\n",
       "        vertical-align: middle;\n",
       "    }\n",
       "\n",
       "    .dataframe tbody tr th {\n",
       "        vertical-align: top;\n",
       "    }\n",
       "\n",
       "    .dataframe thead th {\n",
       "        text-align: right;\n",
       "    }\n",
       "</style>\n",
       "<table border=\"1\" class=\"dataframe\">\n",
       "  <thead>\n",
       "    <tr style=\"text-align: right;\">\n",
       "      <th></th>\n",
       "      <th>patient_id</th>\n",
       "      <th>appointment_id</th>\n",
       "      <th>gender</th>\n",
       "      <th>scheduled_day</th>\n",
       "      <th>appointment_day</th>\n",
       "      <th>age</th>\n",
       "      <th>neighbourhood</th>\n",
       "      <th>scholarship</th>\n",
       "      <th>hypertension</th>\n",
       "      <th>diabetes</th>\n",
       "      <th>alcoholism</th>\n",
       "      <th>handicap</th>\n",
       "      <th>SMS_received</th>\n",
       "      <th>appointment_missed</th>\n",
       "    </tr>\n",
       "  </thead>\n",
       "  <tbody>\n",
       "    <tr>\n",
       "      <th>0</th>\n",
       "      <td>29872499824296</td>\n",
       "      <td>5642903</td>\n",
       "      <td>F</td>\n",
       "      <td>2016-04-29</td>\n",
       "      <td>2016-04-29</td>\n",
       "      <td>62</td>\n",
       "      <td>JARDIM DA PENHA</td>\n",
       "      <td>0</td>\n",
       "      <td>1</td>\n",
       "      <td>0</td>\n",
       "      <td>0</td>\n",
       "      <td>0</td>\n",
       "      <td>0</td>\n",
       "      <td>No</td>\n",
       "    </tr>\n",
       "    <tr>\n",
       "      <th>1</th>\n",
       "      <td>558997776694438</td>\n",
       "      <td>5642503</td>\n",
       "      <td>M</td>\n",
       "      <td>2016-04-29</td>\n",
       "      <td>2016-04-29</td>\n",
       "      <td>56</td>\n",
       "      <td>JARDIM DA PENHA</td>\n",
       "      <td>0</td>\n",
       "      <td>0</td>\n",
       "      <td>0</td>\n",
       "      <td>0</td>\n",
       "      <td>0</td>\n",
       "      <td>0</td>\n",
       "      <td>No</td>\n",
       "    </tr>\n",
       "    <tr>\n",
       "      <th>2</th>\n",
       "      <td>4262962299951</td>\n",
       "      <td>5642549</td>\n",
       "      <td>F</td>\n",
       "      <td>2016-04-29</td>\n",
       "      <td>2016-04-29</td>\n",
       "      <td>62</td>\n",
       "      <td>MATA DA PRAIA</td>\n",
       "      <td>0</td>\n",
       "      <td>0</td>\n",
       "      <td>0</td>\n",
       "      <td>0</td>\n",
       "      <td>0</td>\n",
       "      <td>0</td>\n",
       "      <td>No</td>\n",
       "    </tr>\n",
       "    <tr>\n",
       "      <th>3</th>\n",
       "      <td>867951213174</td>\n",
       "      <td>5642828</td>\n",
       "      <td>F</td>\n",
       "      <td>2016-04-29</td>\n",
       "      <td>2016-04-29</td>\n",
       "      <td>8</td>\n",
       "      <td>PONTAL DE CAMBURI</td>\n",
       "      <td>0</td>\n",
       "      <td>0</td>\n",
       "      <td>0</td>\n",
       "      <td>0</td>\n",
       "      <td>0</td>\n",
       "      <td>0</td>\n",
       "      <td>No</td>\n",
       "    </tr>\n",
       "    <tr>\n",
       "      <th>4</th>\n",
       "      <td>8841186448183</td>\n",
       "      <td>5642494</td>\n",
       "      <td>F</td>\n",
       "      <td>2016-04-29</td>\n",
       "      <td>2016-04-29</td>\n",
       "      <td>56</td>\n",
       "      <td>JARDIM DA PENHA</td>\n",
       "      <td>0</td>\n",
       "      <td>1</td>\n",
       "      <td>1</td>\n",
       "      <td>0</td>\n",
       "      <td>0</td>\n",
       "      <td>0</td>\n",
       "      <td>No</td>\n",
       "    </tr>\n",
       "  </tbody>\n",
       "</table>\n",
       "</div>"
      ],
      "text/plain": [
       "        patient_id  appointment_id gender scheduled_day appointment_day  age  \\\n",
       "0   29872499824296         5642903      F    2016-04-29      2016-04-29   62   \n",
       "1  558997776694438         5642503      M    2016-04-29      2016-04-29   56   \n",
       "2    4262962299951         5642549      F    2016-04-29      2016-04-29   62   \n",
       "3     867951213174         5642828      F    2016-04-29      2016-04-29    8   \n",
       "4    8841186448183         5642494      F    2016-04-29      2016-04-29   56   \n",
       "\n",
       "       neighbourhood  scholarship  hypertension  diabetes  alcoholism  \\\n",
       "0    JARDIM DA PENHA            0             1         0           0   \n",
       "1    JARDIM DA PENHA            0             0         0           0   \n",
       "2      MATA DA PRAIA            0             0         0           0   \n",
       "3  PONTAL DE CAMBURI            0             0         0           0   \n",
       "4    JARDIM DA PENHA            0             1         1           0   \n",
       "\n",
       "   handicap  SMS_received appointment_missed  \n",
       "0         0             0                 No  \n",
       "1         0             0                 No  \n",
       "2         0             0                 No  \n",
       "3         0             0                 No  \n",
       "4         0             0                 No  "
      ]
     },
     "execution_count": 25,
     "metadata": {},
     "output_type": "execute_result"
    }
   ],
   "source": [
    "# confirming changes\n",
    "df.head()"
   ]
  },
  {
   "cell_type": "markdown",
   "metadata": {},
   "source": [
    "##### 2. Removing the rows with  'age'  outliers : 0 and 115"
   ]
  },
  {
   "cell_type": "code",
   "execution_count": 26,
   "metadata": {},
   "outputs": [],
   "source": [
    "df = df[(df['age']  > 0) & (df['age'] <= 102)]"
   ]
  },
  {
   "cell_type": "code",
   "execution_count": 27,
   "metadata": {},
   "outputs": [
    {
     "name": "stdout",
     "output_type": "stream",
     "text": [
      "[1, 2, 3, 4, 5, 6, 7, 8, 9, 10, 11, 12, 13, 14, 15, 16, 17, 18, 19, 20, 21, 22, 23, 24, 25, 26, 27, 28, 29, 30, 31, 32, 33, 34, 35, 36, 37, 38, 39, 40, 41, 42, 43, 44, 45, 46, 47, 48, 49, 50, 51, 52, 53, 54, 55, 56, 57, 58, 59, 60, 61, 62, 63, 64, 65, 66, 67, 68, 69, 70, 71, 72, 73, 74, 75, 76, 77, 78, 79, 80, 81, 82, 83, 84, 85, 86, 87, 88, 89, 90, 91, 92, 93, 94, 95, 96, 97, 98, 99, 100, 102]\n"
     ]
    }
   ],
   "source": [
    "# confirming changes have been successfully applied\n",
    "print(sorted(df.age.unique()))"
   ]
  },
  {
   "cell_type": "markdown",
   "metadata": {},
   "source": [
    "**3. Changing the values of 'appointment_missed' column to 0's and 1's** \n",
    "> where 0 = Showed up to appointment('No'), and 1 = did not show up (missed the appointment) ('Yes')"
   ]
  },
  {
   "cell_type": "code",
   "execution_count": 28,
   "metadata": {},
   "outputs": [],
   "source": [
    "df['appointment_missed'].replace({'Yes':1 , 'No':0}, inplace=True)"
   ]
  },
  {
   "cell_type": "code",
   "execution_count": 29,
   "metadata": {},
   "outputs": [
    {
     "data": {
      "text/plain": [
       "array([0, 1], dtype=int64)"
      ]
     },
     "execution_count": 29,
     "metadata": {},
     "output_type": "execute_result"
    }
   ],
   "source": [
    "# confirming changes\n",
    "df.appointment_missed.unique()"
   ]
  },
  {
   "cell_type": "markdown",
   "metadata": {},
   "source": [
    "### 4) Dropping an Unrelated Column and Adding some New Columns"
   ]
  },
  {
   "cell_type": "markdown",
   "metadata": {},
   "source": [
    "##### 1. Drop 'scolarship' Column"
   ]
  },
  {
   "cell_type": "code",
   "execution_count": 30,
   "metadata": {},
   "outputs": [],
   "source": [
    "df.drop('scholarship', axis=1, inplace=True)"
   ]
  },
  {
   "cell_type": "code",
   "execution_count": 31,
   "metadata": {},
   "outputs": [
    {
     "data": {
      "text/plain": [
       "Index(['patient_id', 'appointment_id', 'gender', 'scheduled_day',\n",
       "       'appointment_day', 'age', 'neighbourhood', 'hypertension', 'diabetes',\n",
       "       'alcoholism', 'handicap', 'SMS_received', 'appointment_missed'],\n",
       "      dtype='object')"
      ]
     },
     "execution_count": 31,
     "metadata": {},
     "output_type": "execute_result"
    }
   ],
   "source": [
    "# confirming changes\n",
    "df.columns"
   ]
  },
  {
   "cell_type": "markdown",
   "metadata": {},
   "source": [
    "##### 2. Add a new column 'day_of_week'"
   ]
  },
  {
   "cell_type": "markdown",
   "metadata": {},
   "source": [
    ">Adding this new column will be helpful when answering one of the previously posted Questions. "
   ]
  },
  {
   "cell_type": "code",
   "execution_count": 32,
   "metadata": {},
   "outputs": [],
   "source": [
    "df['day_of_week'] = pd.to_datetime(df['appointment_day']).apply(lambda x: x.isoweekday())"
   ]
  },
  {
   "cell_type": "code",
   "execution_count": 33,
   "metadata": {},
   "outputs": [
    {
     "name": "stdout",
     "output_type": "stream",
     "text": [
      "[1, 2, 3, 4, 5, 6]\n"
     ]
    }
   ],
   "source": [
    "# checking the unique values in our new column \n",
    "print(sorted(df['day_of_week'].unique()))"
   ]
  },
  {
   "cell_type": "code",
   "execution_count": 34,
   "metadata": {},
   "outputs": [],
   "source": [
    "# replacing the day number by the day name in our newly created 'day_of_week' column\n",
    "df['day_of_week']=df['day_of_week'].replace({1:'Monday', 2:'Tuesday', 3:'Wednesday', 4:'Thursday', 5:'Friday', 6:'Saturday'})"
   ]
  },
  {
   "cell_type": "code",
   "execution_count": 35,
   "metadata": {},
   "outputs": [
    {
     "data": {
      "text/plain": [
       "array(['Friday', 'Tuesday', 'Monday', 'Wednesday', 'Thursday', 'Saturday'],\n",
       "      dtype=object)"
      ]
     },
     "execution_count": 35,
     "metadata": {},
     "output_type": "execute_result"
    }
   ],
   "source": [
    "# checking the new column's unique values\n",
    "df['day_of_week'].unique()"
   ]
  },
  {
   "cell_type": "markdown",
   "metadata": {},
   "source": [
    "##### 3. Calculating and Adding a New Column to Show Patient's Awaiting Days\n",
    "\n",
    "> **awaiting_days:** is the rounded number of Days from the Scheduled Day to the Appointment Day"
   ]
  },
  {
   "cell_type": "markdown",
   "metadata": {},
   "source": [
    "Patient's Awaiting Days is calculated by finding the difference between the appointment day and the scheduled day."
   ]
  },
  {
   "cell_type": "code",
   "execution_count": 36,
   "metadata": {},
   "outputs": [],
   "source": [
    "df['awaiting_days'] = (df['appointment_day'] - df['scheduled_day']).dt.days"
   ]
  },
  {
   "cell_type": "code",
   "execution_count": 37,
   "metadata": {},
   "outputs": [
    {
     "data": {
      "text/plain": [
       "Index(['patient_id', 'appointment_id', 'gender', 'scheduled_day',\n",
       "       'appointment_day', 'age', 'neighbourhood', 'hypertension', 'diabetes',\n",
       "       'alcoholism', 'handicap', 'SMS_received', 'appointment_missed',\n",
       "       'day_of_week', 'awaiting_days'],\n",
       "      dtype='object')"
      ]
     },
     "execution_count": 37,
     "metadata": {},
     "output_type": "execute_result"
    }
   ],
   "source": [
    "# confirming changes \n",
    "df.columns"
   ]
  },
  {
   "cell_type": "markdown",
   "metadata": {},
   "source": [
    "### 5) Handling Categorical Variables"
   ]
  },
  {
   "cell_type": "code",
   "execution_count": 38,
   "metadata": {},
   "outputs": [],
   "source": [
    "# creating a list of all the categorical variables in the dataset\n",
    "columns = df.columns\n",
    "categorical_var = [] \n",
    "\n",
    "for col in columns:\n",
    "    if df[col].dtype=='object':\n",
    "        categorical_var.append(col)"
   ]
  },
  {
   "cell_type": "code",
   "execution_count": 39,
   "metadata": {},
   "outputs": [
    {
     "data": {
      "text/plain": [
       "['gender', 'scheduled_day', 'appointment_day', 'neighbourhood', 'day_of_week']"
      ]
     },
     "execution_count": 39,
     "metadata": {},
     "output_type": "execute_result"
    }
   ],
   "source": [
    "# checking the columns' labels of the categorical variables\n",
    "categorical_var"
   ]
  },
  {
   "cell_type": "code",
   "execution_count": 40,
   "metadata": {},
   "outputs": [
    {
     "name": "stdout",
     "output_type": "stream",
     "text": [
      "- The number of unique values in \"gender\" is 2 values.\n",
      "- The number of unique values in \"scheduled_day\" is 110 values.\n",
      "- The number of unique values in \"appointment_day\" is 27 values.\n",
      "- The number of unique values in \"neighbourhood\" is 81 values.\n",
      "- The number of unique values in \"day_of_week\" is 6 values.\n"
     ]
    }
   ],
   "source": [
    "# printingthe number of the unique values in each categorical variable\n",
    "for col in categorical_var:\n",
    "    num_unique = len(df[col].unique())\n",
    "    print('- The number of unique values in \"{}\" is {} values.'.format(col ,num_unique))"
   ]
  },
  {
   "cell_type": "markdown",
   "metadata": {},
   "source": [
    "### Returning back to the Questions posted within the 'Business Understanding Step' , checking the number of unique values in each categorical variable , I decided to :\n",
    "- **ONLY One-Hot Encode the 'gender' and 'day_of_week' categorical variables** since they have a few number of unique values and are directly related to the Qs of interest.\n",
    "- **Ignore other categorical variables ,i.e.'scheduled_day' , 'appointment_day' and 'neighbourhood' variables** b/c encoding them requires the creation of a large number of new columns and they are not needed to answer the Qs posted within the  'Business Understanding Step'"
   ]
  },
  {
   "cell_type": "markdown",
   "metadata": {},
   "source": [
    "#### One Hot Encode  'gender' and 'day_of_week' categorical variables"
   ]
  },
  {
   "cell_type": "code",
   "execution_count": 41,
   "metadata": {},
   "outputs": [],
   "source": [
    "# One Hot Encode 'gender' categorical variables\n",
    "df= pd.get_dummies(df, columns=['gender'], drop_first = True)\n",
    "\n",
    "# One Hot Encode 'day_of_week' categorical variables\n",
    "df= pd.get_dummies(df, columns=['day_of_week'])"
   ]
  },
  {
   "cell_type": "code",
   "execution_count": 42,
   "metadata": {},
   "outputs": [
    {
     "data": {
      "text/plain": [
       "patient_id                int64\n",
       "appointment_id            int64\n",
       "scheduled_day            object\n",
       "appointment_day          object\n",
       "age                       int64\n",
       "neighbourhood            object\n",
       "hypertension              int64\n",
       "diabetes                  int64\n",
       "alcoholism                int64\n",
       "handicap                  int64\n",
       "SMS_received              int64\n",
       "appointment_missed        int64\n",
       "awaiting_days             int64\n",
       "gender_M                  uint8\n",
       "day_of_week_Friday        uint8\n",
       "day_of_week_Monday        uint8\n",
       "day_of_week_Saturday      uint8\n",
       "day_of_week_Thursday      uint8\n",
       "day_of_week_Tuesday       uint8\n",
       "day_of_week_Wednesday     uint8\n",
       "dtype: object"
      ]
     },
     "execution_count": 42,
     "metadata": {},
     "output_type": "execute_result"
    }
   ],
   "source": [
    "# checking the datatypes of the dataset columns , \n",
    "# we should only get three categorical columns( the ones that I decided not to Encode them within the last step)\n",
    "df.dtypes"
   ]
  },
  {
   "cell_type": "code",
   "execution_count": 43,
   "metadata": {},
   "outputs": [],
   "source": [
    "# renaming the newely created dummy variable of 'gender_M' to be 'gender', \n",
    "df.rename(columns = {'gender_M' : 'male'} , inplace = True)"
   ]
  },
  {
   "cell_type": "code",
   "execution_count": 44,
   "metadata": {},
   "outputs": [
    {
     "data": {
      "text/plain": [
       "True"
      ]
     },
     "execution_count": 44,
     "metadata": {},
     "output_type": "execute_result"
    }
   ],
   "source": [
    "# if 'gender_M' has been successfully renamed to 'male', the following line of code should return True\n",
    "'male' in df.columns"
   ]
  },
  {
   "cell_type": "markdown",
   "metadata": {},
   "source": [
    "### The 'male' column has two unique values : 1 and 0 , \n",
    "> where 1 means that the patient's gender is male , and 0 means that the patient's gender is female"
   ]
  },
  {
   "cell_type": "markdown",
   "metadata": {},
   "source": [
    "### 6) Handling Missing Values"
   ]
  },
  {
   "cell_type": "markdown",
   "metadata": {},
   "source": [
    "#### During the 'Data Understanding Step', it appeared that the dataset has NO Missing values. However, as a final check, I would run the following line of code that drops all the rows  with any missing values in any of its columns. \n",
    "> If the resulting dataset has the same number of rows as our original dataset then this confirms that we don't have any absence of missing values in our dataset."
   ]
  },
  {
   "cell_type": "code",
   "execution_count": 45,
   "metadata": {},
   "outputs": [],
   "source": [
    "# drop the row if any NA values are present, and store the resulting dataframe as 'df_dropna'\n",
    "df_dropna = df.dropna(axis = 0)"
   ]
  },
  {
   "cell_type": "code",
   "execution_count": 46,
   "metadata": {},
   "outputs": [
    {
     "data": {
      "text/plain": [
       "True"
      ]
     },
     "execution_count": 46,
     "metadata": {},
     "output_type": "execute_result"
    }
   ],
   "source": [
    "# comparing the number of rows in the two dataframe ( the original one and the newely created one)\n",
    "# if our original dataset has Misssing values, the output of the following line of code should be \"True\"\n",
    "df_dropna.shape[0] == df.shape[0]"
   ]
  },
  {
   "cell_type": "markdown",
   "metadata": {},
   "source": [
    "### 7) Splitting the Data into two Data Frames \n",
    "#### This can be easily done by creating two data frames to separate patients who attended their appointments(showed up) from those who missed their appointments (did not show up)."
   ]
  },
  {
   "cell_type": "code",
   "execution_count": 47,
   "metadata": {},
   "outputs": [],
   "source": [
    "df_no_show = df[df['appointment_missed'] == 1]\n",
    "df_show = df[df['appointment_missed'] == 0]"
   ]
  },
  {
   "cell_type": "markdown",
   "metadata": {},
   "source": [
    "**Checking the newely created Data Frames**"
   ]
  },
  {
   "cell_type": "code",
   "execution_count": 48,
   "metadata": {},
   "outputs": [
    {
     "data": {
      "text/html": [
       "<div>\n",
       "<style scoped>\n",
       "    .dataframe tbody tr th:only-of-type {\n",
       "        vertical-align: middle;\n",
       "    }\n",
       "\n",
       "    .dataframe tbody tr th {\n",
       "        vertical-align: top;\n",
       "    }\n",
       "\n",
       "    .dataframe thead th {\n",
       "        text-align: right;\n",
       "    }\n",
       "</style>\n",
       "<table border=\"1\" class=\"dataframe\">\n",
       "  <thead>\n",
       "    <tr style=\"text-align: right;\">\n",
       "      <th></th>\n",
       "      <th>patient_id</th>\n",
       "      <th>appointment_id</th>\n",
       "      <th>scheduled_day</th>\n",
       "      <th>appointment_day</th>\n",
       "      <th>age</th>\n",
       "      <th>neighbourhood</th>\n",
       "      <th>hypertension</th>\n",
       "      <th>diabetes</th>\n",
       "      <th>alcoholism</th>\n",
       "      <th>handicap</th>\n",
       "      <th>SMS_received</th>\n",
       "      <th>appointment_missed</th>\n",
       "      <th>awaiting_days</th>\n",
       "      <th>male</th>\n",
       "      <th>day_of_week_Friday</th>\n",
       "      <th>day_of_week_Monday</th>\n",
       "      <th>day_of_week_Saturday</th>\n",
       "      <th>day_of_week_Thursday</th>\n",
       "      <th>day_of_week_Tuesday</th>\n",
       "      <th>day_of_week_Wednesday</th>\n",
       "    </tr>\n",
       "  </thead>\n",
       "  <tbody>\n",
       "    <tr>\n",
       "      <th>6</th>\n",
       "      <td>733688164476661</td>\n",
       "      <td>5630279</td>\n",
       "      <td>2016-04-27</td>\n",
       "      <td>2016-04-29</td>\n",
       "      <td>23</td>\n",
       "      <td>GOIABEIRAS</td>\n",
       "      <td>0</td>\n",
       "      <td>0</td>\n",
       "      <td>0</td>\n",
       "      <td>0</td>\n",
       "      <td>0</td>\n",
       "      <td>1</td>\n",
       "      <td>2</td>\n",
       "      <td>0</td>\n",
       "      <td>1</td>\n",
       "      <td>0</td>\n",
       "      <td>0</td>\n",
       "      <td>0</td>\n",
       "      <td>0</td>\n",
       "      <td>0</td>\n",
       "    </tr>\n",
       "    <tr>\n",
       "      <th>7</th>\n",
       "      <td>3449833394123</td>\n",
       "      <td>5630575</td>\n",
       "      <td>2016-04-27</td>\n",
       "      <td>2016-04-29</td>\n",
       "      <td>39</td>\n",
       "      <td>GOIABEIRAS</td>\n",
       "      <td>0</td>\n",
       "      <td>0</td>\n",
       "      <td>0</td>\n",
       "      <td>0</td>\n",
       "      <td>0</td>\n",
       "      <td>1</td>\n",
       "      <td>2</td>\n",
       "      <td>0</td>\n",
       "      <td>1</td>\n",
       "      <td>0</td>\n",
       "      <td>0</td>\n",
       "      <td>0</td>\n",
       "      <td>0</td>\n",
       "      <td>0</td>\n",
       "    </tr>\n",
       "    <tr>\n",
       "      <th>11</th>\n",
       "      <td>7542951368435</td>\n",
       "      <td>5620163</td>\n",
       "      <td>2016-04-26</td>\n",
       "      <td>2016-04-29</td>\n",
       "      <td>29</td>\n",
       "      <td>NOVA PALESTINA</td>\n",
       "      <td>0</td>\n",
       "      <td>0</td>\n",
       "      <td>0</td>\n",
       "      <td>0</td>\n",
       "      <td>1</td>\n",
       "      <td>1</td>\n",
       "      <td>3</td>\n",
       "      <td>1</td>\n",
       "      <td>1</td>\n",
       "      <td>0</td>\n",
       "      <td>0</td>\n",
       "      <td>0</td>\n",
       "      <td>0</td>\n",
       "      <td>0</td>\n",
       "    </tr>\n",
       "  </tbody>\n",
       "</table>\n",
       "</div>"
      ],
      "text/plain": [
       "         patient_id  appointment_id scheduled_day appointment_day  age  \\\n",
       "6   733688164476661         5630279    2016-04-27      2016-04-29   23   \n",
       "7     3449833394123         5630575    2016-04-27      2016-04-29   39   \n",
       "11    7542951368435         5620163    2016-04-26      2016-04-29   29   \n",
       "\n",
       "     neighbourhood  hypertension  diabetes  alcoholism  handicap  \\\n",
       "6       GOIABEIRAS             0         0           0         0   \n",
       "7       GOIABEIRAS             0         0           0         0   \n",
       "11  NOVA PALESTINA             0         0           0         0   \n",
       "\n",
       "    SMS_received  appointment_missed  awaiting_days  male  day_of_week_Friday  \\\n",
       "6              0                   1              2     0                   1   \n",
       "7              0                   1              2     0                   1   \n",
       "11             1                   1              3     1                   1   \n",
       "\n",
       "    day_of_week_Monday  day_of_week_Saturday  day_of_week_Thursday  \\\n",
       "6                    0                     0                     0   \n",
       "7                    0                     0                     0   \n",
       "11                   0                     0                     0   \n",
       "\n",
       "    day_of_week_Tuesday  day_of_week_Wednesday  \n",
       "6                     0                      0  \n",
       "7                     0                      0  \n",
       "11                    0                      0  "
      ]
     },
     "execution_count": 48,
     "metadata": {},
     "output_type": "execute_result"
    }
   ],
   "source": [
    "df_no_show.head(3)"
   ]
  },
  {
   "cell_type": "code",
   "execution_count": 49,
   "metadata": {
    "scrolled": true
   },
   "outputs": [
    {
     "data": {
      "text/html": [
       "<div>\n",
       "<style scoped>\n",
       "    .dataframe tbody tr th:only-of-type {\n",
       "        vertical-align: middle;\n",
       "    }\n",
       "\n",
       "    .dataframe tbody tr th {\n",
       "        vertical-align: top;\n",
       "    }\n",
       "\n",
       "    .dataframe thead th {\n",
       "        text-align: right;\n",
       "    }\n",
       "</style>\n",
       "<table border=\"1\" class=\"dataframe\">\n",
       "  <thead>\n",
       "    <tr style=\"text-align: right;\">\n",
       "      <th></th>\n",
       "      <th>patient_id</th>\n",
       "      <th>appointment_id</th>\n",
       "      <th>scheduled_day</th>\n",
       "      <th>appointment_day</th>\n",
       "      <th>age</th>\n",
       "      <th>neighbourhood</th>\n",
       "      <th>hypertension</th>\n",
       "      <th>diabetes</th>\n",
       "      <th>alcoholism</th>\n",
       "      <th>handicap</th>\n",
       "      <th>SMS_received</th>\n",
       "      <th>appointment_missed</th>\n",
       "      <th>awaiting_days</th>\n",
       "      <th>male</th>\n",
       "      <th>day_of_week_Friday</th>\n",
       "      <th>day_of_week_Monday</th>\n",
       "      <th>day_of_week_Saturday</th>\n",
       "      <th>day_of_week_Thursday</th>\n",
       "      <th>day_of_week_Tuesday</th>\n",
       "      <th>day_of_week_Wednesday</th>\n",
       "    </tr>\n",
       "  </thead>\n",
       "  <tbody>\n",
       "    <tr>\n",
       "      <th>0</th>\n",
       "      <td>29872499824296</td>\n",
       "      <td>5642903</td>\n",
       "      <td>2016-04-29</td>\n",
       "      <td>2016-04-29</td>\n",
       "      <td>62</td>\n",
       "      <td>JARDIM DA PENHA</td>\n",
       "      <td>1</td>\n",
       "      <td>0</td>\n",
       "      <td>0</td>\n",
       "      <td>0</td>\n",
       "      <td>0</td>\n",
       "      <td>0</td>\n",
       "      <td>0</td>\n",
       "      <td>0</td>\n",
       "      <td>1</td>\n",
       "      <td>0</td>\n",
       "      <td>0</td>\n",
       "      <td>0</td>\n",
       "      <td>0</td>\n",
       "      <td>0</td>\n",
       "    </tr>\n",
       "    <tr>\n",
       "      <th>1</th>\n",
       "      <td>558997776694438</td>\n",
       "      <td>5642503</td>\n",
       "      <td>2016-04-29</td>\n",
       "      <td>2016-04-29</td>\n",
       "      <td>56</td>\n",
       "      <td>JARDIM DA PENHA</td>\n",
       "      <td>0</td>\n",
       "      <td>0</td>\n",
       "      <td>0</td>\n",
       "      <td>0</td>\n",
       "      <td>0</td>\n",
       "      <td>0</td>\n",
       "      <td>0</td>\n",
       "      <td>1</td>\n",
       "      <td>1</td>\n",
       "      <td>0</td>\n",
       "      <td>0</td>\n",
       "      <td>0</td>\n",
       "      <td>0</td>\n",
       "      <td>0</td>\n",
       "    </tr>\n",
       "    <tr>\n",
       "      <th>2</th>\n",
       "      <td>4262962299951</td>\n",
       "      <td>5642549</td>\n",
       "      <td>2016-04-29</td>\n",
       "      <td>2016-04-29</td>\n",
       "      <td>62</td>\n",
       "      <td>MATA DA PRAIA</td>\n",
       "      <td>0</td>\n",
       "      <td>0</td>\n",
       "      <td>0</td>\n",
       "      <td>0</td>\n",
       "      <td>0</td>\n",
       "      <td>0</td>\n",
       "      <td>0</td>\n",
       "      <td>0</td>\n",
       "      <td>1</td>\n",
       "      <td>0</td>\n",
       "      <td>0</td>\n",
       "      <td>0</td>\n",
       "      <td>0</td>\n",
       "      <td>0</td>\n",
       "    </tr>\n",
       "  </tbody>\n",
       "</table>\n",
       "</div>"
      ],
      "text/plain": [
       "        patient_id  appointment_id scheduled_day appointment_day  age  \\\n",
       "0   29872499824296         5642903    2016-04-29      2016-04-29   62   \n",
       "1  558997776694438         5642503    2016-04-29      2016-04-29   56   \n",
       "2    4262962299951         5642549    2016-04-29      2016-04-29   62   \n",
       "\n",
       "     neighbourhood  hypertension  diabetes  alcoholism  handicap  \\\n",
       "0  JARDIM DA PENHA             1         0           0         0   \n",
       "1  JARDIM DA PENHA             0         0           0         0   \n",
       "2    MATA DA PRAIA             0         0           0         0   \n",
       "\n",
       "   SMS_received  appointment_missed  awaiting_days  male  day_of_week_Friday  \\\n",
       "0             0                   0              0     0                   1   \n",
       "1             0                   0              0     1                   1   \n",
       "2             0                   0              0     0                   1   \n",
       "\n",
       "   day_of_week_Monday  day_of_week_Saturday  day_of_week_Thursday  \\\n",
       "0                   0                     0                     0   \n",
       "1                   0                     0                     0   \n",
       "2                   0                     0                     0   \n",
       "\n",
       "   day_of_week_Tuesday  day_of_week_Wednesday  \n",
       "0                    0                      0  \n",
       "1                    0                      0  \n",
       "2                    0                      0  "
      ]
     },
     "execution_count": 49,
     "metadata": {},
     "output_type": "execute_result"
    }
   ],
   "source": [
    "df_show.head(3)"
   ]
  },
  {
   "cell_type": "markdown",
   "metadata": {},
   "source": [
    "<a id='step4'></a>\n",
    "## Step 4: Data Modeling\n",
    "### During this step we could perform the Tifth step of the data science process :\n",
    "- **model**"
   ]
  },
  {
   "cell_type": "code",
   "execution_count": 50,
   "metadata": {},
   "outputs": [],
   "source": [
    "## Not necessary to answer the Questions posted within the Business Understanding Step(Step1)"
   ]
  },
  {
   "cell_type": "markdown",
   "metadata": {},
   "source": [
    "<a id='step5'></a>\n",
    "## Step 5: Evaluation\n",
    "### During this step we will be performing the the following two steps of the data science process :\n",
    "- **analyze**\n",
    "- **visualize**"
   ]
  },
  {
   "cell_type": "markdown",
   "metadata": {},
   "source": [
    "### Now , it is the time to answer our Questions of interest, evaluate the results and come up with great insights: "
   ]
  },
  {
   "cell_type": "markdown",
   "metadata": {},
   "source": [
    "### 1) Are there specific days of the week where the percentages of no-show appointments occurrences increase?  "
   ]
  },
  {
   "cell_type": "markdown",
   "metadata": {},
   "source": [
    "#### Calculating the total and average numbers of missed appointments (No Show-Ups) per Day of Week "
   ]
  },
  {
   "cell_type": "code",
   "execution_count": 51,
   "metadata": {
    "scrolled": true
   },
   "outputs": [],
   "source": [
    "# creating a dataframe to hold the day of the week and the number of no-shows on that specific day\n",
    "cols = ['day_of_week_Monday','day_of_week_Tuesday','day_of_week_Wednesday','day_of_week_Thursday','day_of_week_Friday','day_of_week_Saturday']\n",
    "count_no = []\n",
    "\n",
    "# creating a list of total number appointments missed (no_shows) for each column included in the cols list \n",
    "for col in cols:\n",
    "    count_no.append(df_no_show[col].sum())"
   ]
  },
  {
   "cell_type": "code",
   "execution_count": 52,
   "metadata": {},
   "outputs": [
    {
     "data": {
      "text/plain": [
       "{'Day': ['Monday', 'Tuesday', 'Wednesday', 'Thursday', 'Friday', 'Saturday'],\n",
       " 'Count': [4514, 5024, 4948, 3242, 3940, 9]}"
      ]
     },
     "execution_count": 52,
     "metadata": {},
     "output_type": "execute_result"
    }
   ],
   "source": [
    "# defining a list of days \n",
    "days = ['Monday','Tuesday','Wednesday','Thursday','Friday','Saturday']\n",
    "# creating an empty dictionary to hold both the week day and the total number of missed appointments of that day\n",
    "days_count_no = {}\n",
    "  \n",
    "# adding list as value of our dictionary\n",
    "days_count_no[\"Day\"] = days\n",
    "days_count_no[\"Count\"] = count_no\n",
    "\n",
    "days_count_no"
   ]
  },
  {
   "cell_type": "code",
   "execution_count": 53,
   "metadata": {},
   "outputs": [
    {
     "data": {
      "text/plain": [
       "3612.83"
      ]
     },
     "execution_count": 53,
     "metadata": {},
     "output_type": "execute_result"
    }
   ],
   "source": [
    "# calculating the average number of missed appointments\n",
    "mean_count = round(sum(count_no)/len(count_no),2) \n",
    "mean_count"
   ]
  },
  {
   "cell_type": "markdown",
   "metadata": {},
   "source": [
    "#### Plotting the total number of missed appointments (No Show-Ups) per Day of Week "
   ]
  },
  {
   "cell_type": "code",
   "execution_count": 54,
   "metadata": {},
   "outputs": [
    {
     "data": {
      "image/png": "[encoded data removed]",
      "text/plain": [
       "<Figure size 576x360 with 1 Axes>"
      ]
     },
     "metadata": {
      "needs_background": "light"
     },
     "output_type": "display_data"
    }
   ],
   "source": [
    "f, ax = plt.subplots(figsize=(8,5))\n",
    "plt.bar(days_count_no['Day'], days_count_no['Count'], color='lightsteelblue')\n",
    "plt.xlabel('Day',fontsize=14)\n",
    "plt.ylabel('Number of No Show-ups',fontsize=13)\n",
    "plt.xticks(days_count_no['Day'], rotation=30)\n",
    "plt.axhline(mean_count, color=\"blue\", label = 'Average')\n",
    "ax.legend()\n",
    "plt.title('No Show-Ups by Day of Week',fontsize=15)\n",
    "plt.show()"
   ]
  },
  {
   "cell_type": "markdown",
   "metadata": {},
   "source": [
    "#### Calculating the percentages of missed appointments (No Show-Ups) per Day of Week "
   ]
  },
  {
   "cell_type": "code",
   "execution_count": 55,
   "metadata": {},
   "outputs": [],
   "source": [
    "# creating a dataframe to hold the day of the week and the total number of \n",
    "# appointments(both attended and missed) on that specific day\n",
    "cols = ['day_of_week_Monday', 'day_of_week_Tuesday', 'day_of_week_Wednesday', 'day_of_week_Thursday',\n",
    "        'day_of_week_Friday', 'day_of_week_Saturday']\n",
    "count_appoint = []\n",
    "\n",
    "# creating a list of total number appointments missed (no_shows) for each column included in the cols list \n",
    "for col in cols:\n",
    "    count_appoint.append(df[col].sum())"
   ]
  },
  {
   "cell_type": "code",
   "execution_count": 56,
   "metadata": {},
   "outputs": [
    {
     "data": {
      "text/plain": [
       "{'Day': ['Monday', 'Tuesday', 'Wednesday', 'Thursday', 'Friday', 'Saturday'],\n",
       " 'Count': [4514, 5024, 4948, 3242, 3940, 9],\n",
       " 'Total Appointments': [21901, 24831, 25090, 16657, 18464, 39]}"
      ]
     },
     "execution_count": 56,
     "metadata": {},
     "output_type": "execute_result"
    }
   ],
   "source": [
    "# adding a new list( holding the total number of appointments in each day) to our dictionary\n",
    "days_count_no[\"Total Appointments\"] = count_appoint\n",
    "\n",
    "days_count_no"
   ]
  },
  {
   "cell_type": "code",
   "execution_count": 57,
   "metadata": {},
   "outputs": [],
   "source": [
    "# finding the percentages of missed appointments (No Show-Ups) per Day of Week and adding the percentages to \n",
    "# its own list\n",
    "percent = [] \n",
    "i = 0 \n",
    "\n",
    "while i < 6:\n",
    "    perc = round((days_count_no[\"Count\"][i]/days_count_no[\"Total Appointments\"][i])*100,2)\n",
    "    percent.append(perc)\n",
    "    i += 1"
   ]
  },
  {
   "cell_type": "code",
   "execution_count": 58,
   "metadata": {},
   "outputs": [
    {
     "data": {
      "text/plain": [
       "{'Day': ['Monday', 'Tuesday', 'Wednesday', 'Thursday', 'Friday', 'Saturday'],\n",
       " 'Count': [4514, 5024, 4948, 3242, 3940, 9],\n",
       " 'Total Appointments': [21901, 24831, 25090, 16657, 18464, 39],\n",
       " '% of No-Shows': [20.61, 20.23, 19.72, 19.46, 21.34, 23.08]}"
      ]
     },
     "execution_count": 58,
     "metadata": {},
     "output_type": "execute_result"
    }
   ],
   "source": [
    "# adding a new list( holding the percentage of missed appointments in each day) to our dictionary\n",
    "days_count_no[\"% of No-Shows\"] = percent\n",
    "\n",
    "days_count_no"
   ]
  },
  {
   "cell_type": "code",
   "execution_count": 59,
   "metadata": {},
   "outputs": [
    {
     "data": {
      "text/plain": [
       "20.74"
      ]
     },
     "execution_count": 59,
     "metadata": {},
     "output_type": "execute_result"
    }
   ],
   "source": [
    "# calculating the average percentage of missed appointments\n",
    "mean_perc = round(sum(percent)/len(percent),2) \n",
    "mean_perc"
   ]
  },
  {
   "cell_type": "markdown",
   "metadata": {},
   "source": [
    "#### Plotting the percentages of missed appointments (No Show-Ups) per Day of Week "
   ]
  },
  {
   "cell_type": "code",
   "execution_count": 60,
   "metadata": {},
   "outputs": [
    {
     "data": {
      "image/png": "[encoded data removed]",
      "text/plain": [
       "<Figure size 576x360 with 1 Axes>"
      ]
     },
     "metadata": {
      "needs_background": "light"
     },
     "output_type": "display_data"
    }
   ],
   "source": [
    "f, ax = plt.subplots(figsize=(8,5))\n",
    "plt.bar(days_count_no['Day'], days_count_no['% of No-Shows'], color='lightsteelblue')\n",
    "plt.xlabel('Day',fontsize=14)\n",
    "plt.ylabel('Percentages',fontsize=13)\n",
    "plt.xticks(days_count_no['Day'], rotation=30) \n",
    "plt.axhline(mean_perc, color=\"blue\", label = 'Average of %')\n",
    "ax.legend()\n",
    "plt.title('% of Missed Appointments by Day of Week',fontsize=15)\n",
    "plt.show()"
   ]
  },
  {
   "cell_type": "markdown",
   "metadata": {},
   "source": [
    "#### Calculating  the total number of No Show-ups by Gender  by Day of Week "
   ]
  },
  {
   "cell_type": "code",
   "execution_count": 61,
   "metadata": {},
   "outputs": [
    {
     "data": {
      "text/plain": [
       "Index(['patient_id', 'appointment_id', 'scheduled_day', 'appointment_day',\n",
       "       'age', 'neighbourhood', 'hypertension', 'diabetes', 'alcoholism',\n",
       "       'handicap', 'SMS_received', 'appointment_missed', 'awaiting_days',\n",
       "       'male', 'day_of_week_Friday', 'day_of_week_Monday',\n",
       "       'day_of_week_Saturday', 'day_of_week_Thursday', 'day_of_week_Tuesday',\n",
       "       'day_of_week_Wednesday'],\n",
       "      dtype='object')"
      ]
     },
     "execution_count": 61,
     "metadata": {},
     "output_type": "execute_result"
    }
   ],
   "source": [
    "df_no_show.columns"
   ]
  },
  {
   "cell_type": "code",
   "execution_count": 62,
   "metadata": {},
   "outputs": [],
   "source": [
    "df_no_day_gender = df_no_show.groupby(['day_of_week_Saturday','day_of_week_Friday','day_of_week_Thursday',\n",
    "                                       'day_of_week_Wednesday','day_of_week_Tuesday','day_of_week_Monday',\n",
    "                                       'male'])['appointment_missed'].count().reset_index(name=\"count\")"
   ]
  },
  {
   "cell_type": "code",
   "execution_count": 63,
   "metadata": {},
   "outputs": [
    {
     "data": {
      "text/html": [
       "<div>\n",
       "<style scoped>\n",
       "    .dataframe tbody tr th:only-of-type {\n",
       "        vertical-align: middle;\n",
       "    }\n",
       "\n",
       "    .dataframe tbody tr th {\n",
       "        vertical-align: top;\n",
       "    }\n",
       "\n",
       "    .dataframe thead th {\n",
       "        text-align: right;\n",
       "    }\n",
       "</style>\n",
       "<table border=\"1\" class=\"dataframe\">\n",
       "  <thead>\n",
       "    <tr style=\"text-align: right;\">\n",
       "      <th></th>\n",
       "      <th>day_of_week_Saturday</th>\n",
       "      <th>day_of_week_Friday</th>\n",
       "      <th>day_of_week_Thursday</th>\n",
       "      <th>day_of_week_Wednesday</th>\n",
       "      <th>day_of_week_Tuesday</th>\n",
       "      <th>day_of_week_Monday</th>\n",
       "      <th>male</th>\n",
       "      <th>count</th>\n",
       "    </tr>\n",
       "  </thead>\n",
       "  <tbody>\n",
       "    <tr>\n",
       "      <th>0</th>\n",
       "      <td>0</td>\n",
       "      <td>0</td>\n",
       "      <td>0</td>\n",
       "      <td>0</td>\n",
       "      <td>0</td>\n",
       "      <td>1</td>\n",
       "      <td>0</td>\n",
       "      <td>3011</td>\n",
       "    </tr>\n",
       "    <tr>\n",
       "      <th>1</th>\n",
       "      <td>0</td>\n",
       "      <td>0</td>\n",
       "      <td>0</td>\n",
       "      <td>0</td>\n",
       "      <td>0</td>\n",
       "      <td>1</td>\n",
       "      <td>1</td>\n",
       "      <td>1503</td>\n",
       "    </tr>\n",
       "    <tr>\n",
       "      <th>2</th>\n",
       "      <td>0</td>\n",
       "      <td>0</td>\n",
       "      <td>0</td>\n",
       "      <td>0</td>\n",
       "      <td>1</td>\n",
       "      <td>0</td>\n",
       "      <td>0</td>\n",
       "      <td>3358</td>\n",
       "    </tr>\n",
       "    <tr>\n",
       "      <th>3</th>\n",
       "      <td>0</td>\n",
       "      <td>0</td>\n",
       "      <td>0</td>\n",
       "      <td>0</td>\n",
       "      <td>1</td>\n",
       "      <td>0</td>\n",
       "      <td>1</td>\n",
       "      <td>1666</td>\n",
       "    </tr>\n",
       "    <tr>\n",
       "      <th>4</th>\n",
       "      <td>0</td>\n",
       "      <td>0</td>\n",
       "      <td>0</td>\n",
       "      <td>1</td>\n",
       "      <td>0</td>\n",
       "      <td>0</td>\n",
       "      <td>0</td>\n",
       "      <td>3229</td>\n",
       "    </tr>\n",
       "    <tr>\n",
       "      <th>5</th>\n",
       "      <td>0</td>\n",
       "      <td>0</td>\n",
       "      <td>0</td>\n",
       "      <td>1</td>\n",
       "      <td>0</td>\n",
       "      <td>0</td>\n",
       "      <td>1</td>\n",
       "      <td>1719</td>\n",
       "    </tr>\n",
       "    <tr>\n",
       "      <th>6</th>\n",
       "      <td>0</td>\n",
       "      <td>0</td>\n",
       "      <td>1</td>\n",
       "      <td>0</td>\n",
       "      <td>0</td>\n",
       "      <td>0</td>\n",
       "      <td>0</td>\n",
       "      <td>2103</td>\n",
       "    </tr>\n",
       "    <tr>\n",
       "      <th>7</th>\n",
       "      <td>0</td>\n",
       "      <td>0</td>\n",
       "      <td>1</td>\n",
       "      <td>0</td>\n",
       "      <td>0</td>\n",
       "      <td>0</td>\n",
       "      <td>1</td>\n",
       "      <td>1139</td>\n",
       "    </tr>\n",
       "    <tr>\n",
       "      <th>8</th>\n",
       "      <td>0</td>\n",
       "      <td>1</td>\n",
       "      <td>0</td>\n",
       "      <td>0</td>\n",
       "      <td>0</td>\n",
       "      <td>0</td>\n",
       "      <td>0</td>\n",
       "      <td>2564</td>\n",
       "    </tr>\n",
       "    <tr>\n",
       "      <th>9</th>\n",
       "      <td>0</td>\n",
       "      <td>1</td>\n",
       "      <td>0</td>\n",
       "      <td>0</td>\n",
       "      <td>0</td>\n",
       "      <td>0</td>\n",
       "      <td>1</td>\n",
       "      <td>1376</td>\n",
       "    </tr>\n",
       "    <tr>\n",
       "      <th>10</th>\n",
       "      <td>1</td>\n",
       "      <td>0</td>\n",
       "      <td>0</td>\n",
       "      <td>0</td>\n",
       "      <td>0</td>\n",
       "      <td>0</td>\n",
       "      <td>0</td>\n",
       "      <td>7</td>\n",
       "    </tr>\n",
       "    <tr>\n",
       "      <th>11</th>\n",
       "      <td>1</td>\n",
       "      <td>0</td>\n",
       "      <td>0</td>\n",
       "      <td>0</td>\n",
       "      <td>0</td>\n",
       "      <td>0</td>\n",
       "      <td>1</td>\n",
       "      <td>2</td>\n",
       "    </tr>\n",
       "  </tbody>\n",
       "</table>\n",
       "</div>"
      ],
      "text/plain": [
       "    day_of_week_Saturday  day_of_week_Friday  day_of_week_Thursday  \\\n",
       "0                      0                   0                     0   \n",
       "1                      0                   0                     0   \n",
       "2                      0                   0                     0   \n",
       "3                      0                   0                     0   \n",
       "4                      0                   0                     0   \n",
       "5                      0                   0                     0   \n",
       "6                      0                   0                     1   \n",
       "7                      0                   0                     1   \n",
       "8                      0                   1                     0   \n",
       "9                      0                   1                     0   \n",
       "10                     1                   0                     0   \n",
       "11                     1                   0                     0   \n",
       "\n",
       "    day_of_week_Wednesday  day_of_week_Tuesday  day_of_week_Monday  male  \\\n",
       "0                       0                    0                   1     0   \n",
       "1                       0                    0                   1     1   \n",
       "2                       0                    1                   0     0   \n",
       "3                       0                    1                   0     1   \n",
       "4                       1                    0                   0     0   \n",
       "5                       1                    0                   0     1   \n",
       "6                       0                    0                   0     0   \n",
       "7                       0                    0                   0     1   \n",
       "8                       0                    0                   0     0   \n",
       "9                       0                    0                   0     1   \n",
       "10                      0                    0                   0     0   \n",
       "11                      0                    0                   0     1   \n",
       "\n",
       "    count  \n",
       "0    3011  \n",
       "1    1503  \n",
       "2    3358  \n",
       "3    1666  \n",
       "4    3229  \n",
       "5    1719  \n",
       "6    2103  \n",
       "7    1139  \n",
       "8    2564  \n",
       "9    1376  \n",
       "10      7  \n",
       "11      2  "
      ]
     },
     "execution_count": 63,
     "metadata": {},
     "output_type": "execute_result"
    }
   ],
   "source": [
    "df_no_day_gender"
   ]
  },
  {
   "cell_type": "code",
   "execution_count": 64,
   "metadata": {},
   "outputs": [],
   "source": [
    "# creating a list to hold the total number of No Show-ups  for female patients per day of week\n",
    "count_female = []\n",
    "i = 0 \n",
    "\n",
    "while i < df_no_day_gender.shape[0]:\n",
    "    count_female.append(df_no_day_gender['count'][i])\n",
    "    i +=2"
   ]
  },
  {
   "cell_type": "code",
   "execution_count": 65,
   "metadata": {},
   "outputs": [],
   "source": [
    "# creating a list to hold the total number of No Show-ups  for male patients per day of week\n",
    "count_male = []\n",
    "i = 1\n",
    "\n",
    "while i < df_no_day_gender.shape[0]:\n",
    "    count_male.append(df_no_day_gender['count'][i])\n",
    "    i +=2"
   ]
  },
  {
   "cell_type": "markdown",
   "metadata": {},
   "source": [
    "#### Calculating  the percentages of No Show-ups by Gender  by Day of Week "
   ]
  },
  {
   "cell_type": "markdown",
   "metadata": {},
   "source": [
    "- Getting the total number of appointments  by gender per day of week"
   ]
  },
  {
   "cell_type": "code",
   "execution_count": 66,
   "metadata": {},
   "outputs": [],
   "source": [
    "df_day_gender = df.groupby(['day_of_week_Saturday','day_of_week_Friday','day_of_week_Thursday','day_of_week_Wednesday',\n",
    "                            'day_of_week_Tuesday','day_of_week_Monday',\n",
    "                            'male'])['appointment_missed'].count().reset_index(name=\"count\")\n",
    "\n",
    "# creating a list to hold the total number of female patients' appointments per day of week\n",
    "total_female = []\n",
    "i_f = 0 \n",
    "\n",
    "while i_f < df_day_gender.shape[0]:\n",
    "    total_female.append(df_day_gender['count'][i_f])\n",
    "    i_f +=2\n",
    "    \n",
    "# creating a list to hold the total number of male patients' appointments per day of week\n",
    "total_male = []\n",
    "i_m = 1\n",
    "\n",
    "while i_m < df_day_gender.shape[0]:\n",
    "    total_male.append(df_day_gender['count'][i_m])\n",
    "    i_m +=2"
   ]
  },
  {
   "cell_type": "code",
   "execution_count": 67,
   "metadata": {},
   "outputs": [
    {
     "data": {
      "text/plain": [
       "True"
      ]
     },
     "execution_count": 67,
     "metadata": {},
     "output_type": "execute_result"
    }
   ],
   "source": [
    "# checking that the lists have been appended correct values  \n",
    "# by comparing the total number of rows of the dataframe and the total number of appointments for both genders\n",
    "# the output sholud be True \n",
    "df.shape[0] == sum(total_male)+sum(total_female)"
   ]
  },
  {
   "cell_type": "code",
   "execution_count": 68,
   "metadata": {},
   "outputs": [],
   "source": [
    "# creating two lists to hold the percentages of No Show-ups  for female and male patients per day of week, respectively\n",
    "percent_female = []\n",
    "percent_male= [] \n",
    "i = 0 \n",
    "\n",
    "while i < len(total_male):\n",
    "    perc_f = round((count_female[i]/total_female[i])*100,2)\n",
    "    perc_m = round((count_male[i]/total_male[i])*100,2)\n",
    "    percent_female.append(perc_f)\n",
    "    percent_male.append(perc_m)\n",
    "    i += 1"
   ]
  },
  {
   "cell_type": "code",
   "execution_count": 69,
   "metadata": {},
   "outputs": [
    {
     "name": "stdout",
     "output_type": "stream",
     "text": [
      "[21.09, 20.38, 19.59, 19.41, 21.34, 24.14]\n",
      "[19.71, 19.94, 19.98, 19.55, 21.34, 20.0]\n"
     ]
    }
   ],
   "source": [
    "# checking the resulted lists of percentages \n",
    "print(percent_female)\n",
    "print(percent_male)\n"
   ]
  },
  {
   "cell_type": "markdown",
   "metadata": {},
   "source": [
    "#### Plottting  the total numbers of No Show-ups by Gender  by Day of Week "
   ]
  },
  {
   "cell_type": "code",
   "execution_count": 70,
   "metadata": {},
   "outputs": [
    {
     "data": {
      "image/png": "[encoded data removed]",
      "text/plain": [
       "<Figure size 576x576 with 1 Axes>"
      ]
     },
     "metadata": {
      "needs_background": "light"
     },
     "output_type": "display_data"
    }
   ],
   "source": [
    "ind = np.arange(len(count_male))  # the x locations for the groups\n",
    "width = 0.35  # the width of the bars\n",
    "\n",
    "fig, ax = plt.subplots(figsize=(8,8))\n",
    "rects1 = ax.bar(ind - width/2, count_male, width,\n",
    "                color='lightsteelblue', label='Male')\n",
    "rects2 = ax.bar(ind + width/2, count_female, width,\n",
    "                color='navajowhite', label='Female')\n",
    "\n",
    "# Add some text for labels, title and custom x-axis tick labels, etc.\n",
    "ax.set_xlabel('Day of Week', size=14)\n",
    "ax.set_ylabel('Number of No-Shows', size=14)\n",
    "ax.set_title('No-Shows by Day of Week and Gender', size=19)\n",
    "ax.set_xticks(ind)\n",
    "ax.set_xticklabels(days)\n",
    "ax.legend(fontsize = 15)\n",
    "\n",
    "\n",
    "def autolabel(rects, xpos='center'):\n",
    "    \"\"\"\n",
    "    Attach a text label above each bar in *rects*, displaying its height.\n",
    "\n",
    "    *xpos* indicates which side to place the text w.r.t. the center of\n",
    "    the bar. It can be one of the following {'center', 'right', 'left'}.\n",
    "    \"\"\"\n",
    "\n",
    "    xpos = xpos.lower()  # normalize the case of the parameter\n",
    "    ha = {'center': 'center', 'right': 'left', 'left': 'right'}\n",
    "    offset = {'center': 0.5, 'right': 0.57, 'left': 0.43}  # x_txt = x + w*off\n",
    "\n",
    "    for rect in rects:\n",
    "        height = rect.get_height()\n",
    "        ax.text(rect.get_x() + rect.get_width()*offset[xpos], 1.01*height,\n",
    "                '{}'.format(height), ha=ha[xpos], va='bottom')\n",
    "     \n",
    "\n",
    "    plt.show()"
   ]
  },
  {
   "cell_type": "markdown",
   "metadata": {},
   "source": [
    "#### Plotting  the percentages of No Show-ups by Gender  by Day of Week "
   ]
  },
  {
   "cell_type": "code",
   "execution_count": 71,
   "metadata": {},
   "outputs": [
    {
     "data": {
      "image/png": "[encoded data removed]",
      "text/plain": [
       "<Figure size 576x576 with 1 Axes>"
      ]
     },
     "metadata": {
      "needs_background": "light"
     },
     "output_type": "display_data"
    }
   ],
   "source": [
    "ind = np.arange(len(percent_female))  # the x locations for the groups\n",
    "width = 0.35  # the width of the bars\n",
    "\n",
    "fig, ax = plt.subplots(figsize=(8,8))\n",
    "rects1 = ax.bar(ind - width/2, percent_male, width,\n",
    "                color='lightsteelblue', label='Male')\n",
    "rects2 = ax.bar(ind + width/2, percent_female, width,\n",
    "                color='navajowhite', label='Female')\n",
    "\n",
    "# Add some text for labels, title and custom x-axis tick labels, etc.\n",
    "ax.set_xlabel('Day of Week', size=14)\n",
    "ax.set_ylabel('% of No-Shows', size=14)\n",
    "ax.set_title('% of No-Shows by Day of Week and Gender', size=19)\n",
    "ax.set_xticks(ind)\n",
    "ax.set_xticklabels(days)\n",
    "ax.legend(fontsize = 15)\n",
    "\n",
    "\n",
    "def autolabel(rects, xpos='center'):\n",
    "    \"\"\"\n",
    "    Attach a text label above each bar in *rects*, displaying its height.\n",
    "\n",
    "    *xpos* indicates which side to place the text w.r.t. the center of\n",
    "    the bar. It can be one of the following {'center', 'right', 'left'}.\n",
    "    \"\"\"\n",
    "\n",
    "    xpos = xpos.lower()  # normalize the case of the parameter\n",
    "    ha = {'center': 'center', 'right': 'left', 'left': 'right'}\n",
    "    offset = {'center': 0.5, 'right': 0.57, 'left': 0.43}  # x_txt = x + w*off\n",
    "\n",
    "    for rect in rects:\n",
    "        height = rect.get_height()\n",
    "        ax.text(rect.get_x() + rect.get_width()*offset[xpos], 1.01*height,\n",
    "                '{}'.format(height), ha=ha[xpos], va='bottom')\n",
    "     \n",
    "\n",
    "    plt.show()"
   ]
  },
  {
   "cell_type": "markdown",
   "metadata": {},
   "source": [
    "### 2) Does the Number of  Awaiting Days,between Scheduled Date and Appointment Date, affect the probability of a patient to miss his/her appointment? Do patients with a greater Number of  Awaiting Days tend to miss their appointments more than those with fewer Awaiting Days?   What is the correlation between the Number of  Awaiting Days and the probability of a patient's Not-Showing up for the appointment?"
   ]
  },
  {
   "cell_type": "code",
   "execution_count": 72,
   "metadata": {},
   "outputs": [
    {
     "data": {
      "image/png": "[encoded data removed]",
      "text/plain": [
       "<Figure size 432x288 with 1 Axes>"
      ]
     },
     "metadata": {
      "needs_background": "light"
     },
     "output_type": "display_data"
    }
   ],
   "source": [
    "# checking the values' distribution of 'awaiting_days' column, to decide on the outliers range\n",
    "df.awaiting_days.hist();"
   ]
  },
  {
   "cell_type": "code",
   "execution_count": 73,
   "metadata": {},
   "outputs": [
    {
     "data": {
      "text/plain": [
       "-6          1\n",
       "-1          4\n",
       " 0      37153\n",
       " 1       5028\n",
       " 2       6636\n",
       " 3       2637\n",
       " 4       5212\n",
       " 5       3196\n",
       " 6       3950\n",
       " 7       4785\n",
       " 8       2248\n",
       " 9       1563\n",
       " 10      1360\n",
       " 11       955\n",
       " 12      1083\n",
       " 13      1622\n",
       " 14      2813\n",
       " 15      1440\n",
       " 16      1111\n",
       " 17      1077\n",
       " 18      1002\n",
       " 19      1012\n",
       " 20      1151\n",
       " 21      1789\n",
       " 22      1137\n",
       " 23       790\n",
       " 24       608\n",
       " 25       623\n",
       " 26       712\n",
       " 27       980\n",
       "        ...  \n",
       " 101        1\n",
       " 102        4\n",
       " 103        4\n",
       " 104        8\n",
       " 105        4\n",
       " 107        2\n",
       " 108        5\n",
       " 109        5\n",
       " 110        2\n",
       " 111        3\n",
       " 112        5\n",
       " 115        2\n",
       " 117        1\n",
       " 119        4\n",
       " 122        3\n",
       " 123        1\n",
       " 125        1\n",
       " 126        1\n",
       " 127        1\n",
       " 132        1\n",
       " 133       11\n",
       " 139        1\n",
       " 142        8\n",
       " 146        1\n",
       " 151        1\n",
       " 155       10\n",
       " 162       11\n",
       " 169        8\n",
       " 176       16\n",
       " 179       10\n",
       "Name: awaiting_days, Length: 131, dtype: int64"
      ]
     },
     "execution_count": 73,
     "metadata": {},
     "output_type": "execute_result"
    }
   ],
   "source": [
    "df.awaiting_days.value_counts().sort_index()"
   ]
  },
  {
   "cell_type": "code",
   "execution_count": 74,
   "metadata": {},
   "outputs": [
    {
     "data": {
      "text/plain": [
       "(106827, 2)"
      ]
     },
     "execution_count": 74,
     "metadata": {},
     "output_type": "execute_result"
    }
   ],
   "source": [
    "# getting a new dataframe without outliers in terms of Awaiting days\n",
    "df_no_outliers =df.query('0 <= awaiting_days < 95 ')\n",
    "\n",
    "# extracting specific selected columns to new DataFrame as a copy\n",
    "df_awaiting_days = df_no_outliers[['awaiting_days','appointment_missed']].copy()\n",
    "\n",
    "df_awaiting_days.shape"
   ]
  },
  {
   "cell_type": "code",
   "execution_count": 75,
   "metadata": {},
   "outputs": [
    {
     "data": {
      "text/plain": [
       "95"
      ]
     },
     "execution_count": 75,
     "metadata": {},
     "output_type": "execute_result"
    }
   ],
   "source": [
    "# counting the number of unique values in 'awaiting_days' variable \n",
    "df_awaiting_days['awaiting_days'].nunique()"
   ]
  },
  {
   "cell_type": "code",
   "execution_count": 76,
   "metadata": {},
   "outputs": [],
   "source": [
    "df_awaiting_days1 = df_awaiting_days.groupby(['awaiting_days']).appointment_missed.sum().reset_index(name=\"count_noshows\")"
   ]
  },
  {
   "cell_type": "code",
   "execution_count": 77,
   "metadata": {},
   "outputs": [
    {
     "data": {
      "text/html": [
       "<div>\n",
       "<style scoped>\n",
       "    .dataframe tbody tr th:only-of-type {\n",
       "        vertical-align: middle;\n",
       "    }\n",
       "\n",
       "    .dataframe tbody tr th {\n",
       "        vertical-align: top;\n",
       "    }\n",
       "\n",
       "    .dataframe thead th {\n",
       "        text-align: right;\n",
       "    }\n",
       "</style>\n",
       "<table border=\"1\" class=\"dataframe\">\n",
       "  <thead>\n",
       "    <tr style=\"text-align: right;\">\n",
       "      <th></th>\n",
       "      <th>awaiting_days</th>\n",
       "      <th>count_noshows</th>\n",
       "    </tr>\n",
       "  </thead>\n",
       "  <tbody>\n",
       "    <tr>\n",
       "      <th>0</th>\n",
       "      <td>0</td>\n",
       "      <td>1741</td>\n",
       "    </tr>\n",
       "    <tr>\n",
       "      <th>1</th>\n",
       "      <td>1</td>\n",
       "      <td>1075</td>\n",
       "    </tr>\n",
       "    <tr>\n",
       "      <th>2</th>\n",
       "      <td>2</td>\n",
       "      <td>1584</td>\n",
       "    </tr>\n",
       "    <tr>\n",
       "      <th>3</th>\n",
       "      <td>3</td>\n",
       "      <td>621</td>\n",
       "    </tr>\n",
       "    <tr>\n",
       "      <th>4</th>\n",
       "      <td>4</td>\n",
       "      <td>1209</td>\n",
       "    </tr>\n",
       "  </tbody>\n",
       "</table>\n",
       "</div>"
      ],
      "text/plain": [
       "   awaiting_days  count_noshows\n",
       "0              0           1741\n",
       "1              1           1075\n",
       "2              2           1584\n",
       "3              3            621\n",
       "4              4           1209"
      ]
     },
     "execution_count": 77,
     "metadata": {},
     "output_type": "execute_result"
    }
   ],
   "source": [
    "df_awaiting_days1.head()"
   ]
  },
  {
   "cell_type": "markdown",
   "metadata": {},
   "source": [
    "- **Engineering 'awaiting_days' variable to facilitate the analysis of this column later** "
   ]
  },
  {
   "cell_type": "code",
   "execution_count": 78,
   "metadata": {},
   "outputs": [],
   "source": [
    "# defining the function that will be called to get ranges of awaiting days as a replacement of the 96 unique values of\n",
    "# 'awaiting_days' variable\n",
    "def days_detailed(x):\n",
    "    if x in range(0,5):\n",
    "        return ' 0-4'\n",
    "    elif x in range(5,10):\n",
    "        return ' 5-9'\n",
    "    elif x in range(10,15):\n",
    "        return '10-14'\n",
    "    elif x in range(15,20):\n",
    "        return '15-19'\n",
    "    elif x in range(20,25):\n",
    "        return '20-24'\n",
    "    elif x in range(25,30):\n",
    "        return '25-29'\n",
    "    elif x in range(30,35):\n",
    "        return '30-34'\n",
    "    elif x in range(35,40):\n",
    "        return '35-39'\n",
    "    elif x in range(40,45):\n",
    "        return '40-44'\n",
    "    elif x in range(45,50):\n",
    "        return '45-49'\n",
    "    elif x in range(50,55):\n",
    "        return '50-54'\n",
    "    elif x in range(55,65):\n",
    "        return '55-59'\n",
    "    elif x in range(60,65):\n",
    "        return '60-64'\n",
    "    elif x in range(65,70):\n",
    "        return '65-69'\n",
    "    elif x in range(70,75):\n",
    "        return '70-74'\n",
    "    elif x in range(75,80):\n",
    "        return '75-79'\n",
    "    elif x in range(80,85):\n",
    "        return '80-84'\n",
    "    elif x in range(85,90):\n",
    "        return '85-89'\n",
    "    else:\n",
    "        return '90-94'\n",
    "    \n",
    "\n",
    "# calling the above function, and assigning the ranges to a new variable 'awaiting_days_ranges'\n",
    "df_awaiting_days['awaiting_days']= df_awaiting_days['awaiting_days'].apply(lambda x: days_detailed(x))\n",
    "df_awaiting_days.rename(columns = {'awaiting_days':'awaiting_ranges'}, inplace = True)"
   ]
  },
  {
   "cell_type": "code",
   "execution_count": 79,
   "metadata": {},
   "outputs": [
    {
     "data": {
      "text/html": [
       "<div>\n",
       "<style scoped>\n",
       "    .dataframe tbody tr th:only-of-type {\n",
       "        vertical-align: middle;\n",
       "    }\n",
       "\n",
       "    .dataframe tbody tr th {\n",
       "        vertical-align: top;\n",
       "    }\n",
       "\n",
       "    .dataframe thead th {\n",
       "        text-align: right;\n",
       "    }\n",
       "</style>\n",
       "<table border=\"1\" class=\"dataframe\">\n",
       "  <thead>\n",
       "    <tr style=\"text-align: right;\">\n",
       "      <th></th>\n",
       "      <th>awaiting_ranges</th>\n",
       "      <th>appointment_missed</th>\n",
       "    </tr>\n",
       "  </thead>\n",
       "  <tbody>\n",
       "    <tr>\n",
       "      <th>10943</th>\n",
       "      <td>0-4</td>\n",
       "      <td>0</td>\n",
       "    </tr>\n",
       "    <tr>\n",
       "      <th>55233</th>\n",
       "      <td>0-4</td>\n",
       "      <td>1</td>\n",
       "    </tr>\n",
       "    <tr>\n",
       "      <th>50862</th>\n",
       "      <td>0-4</td>\n",
       "      <td>0</td>\n",
       "    </tr>\n",
       "    <tr>\n",
       "      <th>38072</th>\n",
       "      <td>5-9</td>\n",
       "      <td>0</td>\n",
       "    </tr>\n",
       "    <tr>\n",
       "      <th>85335</th>\n",
       "      <td>0-4</td>\n",
       "      <td>0</td>\n",
       "    </tr>\n",
       "  </tbody>\n",
       "</table>\n",
       "</div>"
      ],
      "text/plain": [
       "      awaiting_ranges  appointment_missed\n",
       "10943             0-4                   0\n",
       "55233             0-4                   1\n",
       "50862             0-4                   0\n",
       "38072             5-9                   0\n",
       "85335             0-4                   0"
      ]
     },
     "execution_count": 79,
     "metadata": {},
     "output_type": "execute_result"
    }
   ],
   "source": [
    "# checking the resulting dataframe\n",
    "df_awaiting_days.sample(5)"
   ]
  },
  {
   "cell_type": "code",
   "execution_count": 80,
   "metadata": {},
   "outputs": [
    {
     "data": {
      "text/plain": [
       "(106827, 2)"
      ]
     },
     "execution_count": 80,
     "metadata": {},
     "output_type": "execute_result"
    }
   ],
   "source": [
    "df_awaiting_days.shape"
   ]
  },
  {
   "cell_type": "code",
   "execution_count": 81,
   "metadata": {},
   "outputs": [],
   "source": [
    "df_awaiting_ranges = df_awaiting_days.groupby(['awaiting_ranges']).appointment_missed.sum().reset_index(name=\"count_noshows\")"
   ]
  },
  {
   "cell_type": "code",
   "execution_count": 82,
   "metadata": {},
   "outputs": [
    {
     "data": {
      "text/html": [
       "<div>\n",
       "<style scoped>\n",
       "    .dataframe tbody tr th:only-of-type {\n",
       "        vertical-align: middle;\n",
       "    }\n",
       "\n",
       "    .dataframe tbody tr th {\n",
       "        vertical-align: top;\n",
       "    }\n",
       "\n",
       "    .dataframe thead th {\n",
       "        text-align: right;\n",
       "    }\n",
       "</style>\n",
       "<table border=\"1\" class=\"dataframe\">\n",
       "  <thead>\n",
       "    <tr style=\"text-align: right;\">\n",
       "      <th></th>\n",
       "      <th>awaiting_ranges</th>\n",
       "      <th>count_noshows</th>\n",
       "    </tr>\n",
       "  </thead>\n",
       "  <tbody>\n",
       "    <tr>\n",
       "      <th>0</th>\n",
       "      <td>0-4</td>\n",
       "      <td>6230</td>\n",
       "    </tr>\n",
       "    <tr>\n",
       "      <th>1</th>\n",
       "      <td>5-9</td>\n",
       "      <td>4171</td>\n",
       "    </tr>\n",
       "    <tr>\n",
       "      <th>2</th>\n",
       "      <td>10-14</td>\n",
       "      <td>2475</td>\n",
       "    </tr>\n",
       "    <tr>\n",
       "      <th>3</th>\n",
       "      <td>15-19</td>\n",
       "      <td>1833</td>\n",
       "    </tr>\n",
       "    <tr>\n",
       "      <th>4</th>\n",
       "      <td>20-24</td>\n",
       "      <td>1835</td>\n",
       "    </tr>\n",
       "    <tr>\n",
       "      <th>5</th>\n",
       "      <td>25-29</td>\n",
       "      <td>1638</td>\n",
       "    </tr>\n",
       "    <tr>\n",
       "      <th>6</th>\n",
       "      <td>30-34</td>\n",
       "      <td>1067</td>\n",
       "    </tr>\n",
       "    <tr>\n",
       "      <th>7</th>\n",
       "      <td>35-39</td>\n",
       "      <td>738</td>\n",
       "    </tr>\n",
       "    <tr>\n",
       "      <th>8</th>\n",
       "      <td>40-44</td>\n",
       "      <td>493</td>\n",
       "    </tr>\n",
       "    <tr>\n",
       "      <th>9</th>\n",
       "      <td>45-49</td>\n",
       "      <td>226</td>\n",
       "    </tr>\n",
       "    <tr>\n",
       "      <th>10</th>\n",
       "      <td>50-54</td>\n",
       "      <td>162</td>\n",
       "    </tr>\n",
       "    <tr>\n",
       "      <th>11</th>\n",
       "      <td>55-59</td>\n",
       "      <td>369</td>\n",
       "    </tr>\n",
       "    <tr>\n",
       "      <th>12</th>\n",
       "      <td>65-69</td>\n",
       "      <td>151</td>\n",
       "    </tr>\n",
       "    <tr>\n",
       "      <th>13</th>\n",
       "      <td>70-74</td>\n",
       "      <td>87</td>\n",
       "    </tr>\n",
       "    <tr>\n",
       "      <th>14</th>\n",
       "      <td>75-79</td>\n",
       "      <td>79</td>\n",
       "    </tr>\n",
       "    <tr>\n",
       "      <th>15</th>\n",
       "      <td>80-84</td>\n",
       "      <td>24</td>\n",
       "    </tr>\n",
       "    <tr>\n",
       "      <th>16</th>\n",
       "      <td>85-89</td>\n",
       "      <td>26</td>\n",
       "    </tr>\n",
       "    <tr>\n",
       "      <th>17</th>\n",
       "      <td>90-94</td>\n",
       "      <td>25</td>\n",
       "    </tr>\n",
       "  </tbody>\n",
       "</table>\n",
       "</div>"
      ],
      "text/plain": [
       "   awaiting_ranges  count_noshows\n",
       "0              0-4           6230\n",
       "1              5-9           4171\n",
       "2            10-14           2475\n",
       "3            15-19           1833\n",
       "4            20-24           1835\n",
       "5            25-29           1638\n",
       "6            30-34           1067\n",
       "7            35-39            738\n",
       "8            40-44            493\n",
       "9            45-49            226\n",
       "10           50-54            162\n",
       "11           55-59            369\n",
       "12           65-69            151\n",
       "13           70-74             87\n",
       "14           75-79             79\n",
       "15           80-84             24\n",
       "16           85-89             26\n",
       "17           90-94             25"
      ]
     },
     "execution_count": 82,
     "metadata": {},
     "output_type": "execute_result"
    }
   ],
   "source": [
    "df_awaiting_ranges"
   ]
  },
  {
   "cell_type": "code",
   "execution_count": 83,
   "metadata": {},
   "outputs": [
    {
     "data": {
      "image/png": "[encoded data removed]",
      "text/plain": [
       "<Figure size 1080x576 with 1 Axes>"
      ]
     },
     "metadata": {
      "needs_background": "light"
     },
     "output_type": "display_data"
    }
   ],
   "source": [
    "fig, ax = plt.subplots(figsize=(15,8))\n",
    "plt.bar(df_awaiting_ranges['awaiting_ranges'] , height=df_awaiting_ranges['count_noshows'], width=0.7, color=['navajowhite','lightsteelblue'])\n",
    "plt.xlabel('Awaiting Days',fontsize=12)\n",
    "plt.ylabel('Count of No-Shows',fontsize=12)\n",
    "plt.title('Count of No-Shows Vs Awaiting Days',fontsize=15)  \n",
    "plt.show()"
   ]
  },
  {
   "cell_type": "code",
   "execution_count": 84,
   "metadata": {},
   "outputs": [],
   "source": [
    "# adding a new column to hold the \"total numbers of appointments within the created awaiting ranges\" \n",
    "df_awaiting_ranges_total= df_awaiting_days.groupby(['awaiting_ranges']).appointment_missed.count().reset_index(name=\"total_appointments\")"
   ]
  },
  {
   "cell_type": "code",
   "execution_count": 85,
   "metadata": {},
   "outputs": [],
   "source": [
    "# creating a list of the total numbers of appointments within each awaiting range\n",
    "total_appointments = []\n",
    "i = 0 \n",
    "\n",
    "while i < df_awaiting_ranges_total.shape[0]:\n",
    "    total_appointments.append(df_awaiting_ranges_total['total_appointments'][i])\n",
    "    i += 1"
   ]
  },
  {
   "cell_type": "code",
   "execution_count": 86,
   "metadata": {},
   "outputs": [
    {
     "data": {
      "text/plain": [
       "[56666,\n",
       " 15742,\n",
       " 7833,\n",
       " 5642,\n",
       " 5475,\n",
       " 4973,\n",
       " 3248,\n",
       " 2127,\n",
       " 1379,\n",
       " 676,\n",
       " 521,\n",
       " 1234,\n",
       " 490,\n",
       " 283,\n",
       " 242,\n",
       " 86,\n",
       " 91,\n",
       " 119]"
      ]
     },
     "execution_count": 86,
     "metadata": {},
     "output_type": "execute_result"
    }
   ],
   "source": [
    "# checking the resulted list of totals\n",
    "total_appointments"
   ]
  },
  {
   "cell_type": "code",
   "execution_count": 87,
   "metadata": {},
   "outputs": [
    {
     "data": {
      "text/plain": [
       "True"
      ]
     },
     "execution_count": 87,
     "metadata": {},
     "output_type": "execute_result"
    }
   ],
   "source": [
    "# the total of 'total_appointments' values should be equal to the number of rows in df_awaiting_days data frame\n",
    "sum(total_appointments) == df_awaiting_days.shape[0]"
   ]
  },
  {
   "cell_type": "code",
   "execution_count": 88,
   "metadata": {},
   "outputs": [
    {
     "data": {
      "text/html": [
       "<div>\n",
       "<style scoped>\n",
       "    .dataframe tbody tr th:only-of-type {\n",
       "        vertical-align: middle;\n",
       "    }\n",
       "\n",
       "    .dataframe tbody tr th {\n",
       "        vertical-align: top;\n",
       "    }\n",
       "\n",
       "    .dataframe thead th {\n",
       "        text-align: right;\n",
       "    }\n",
       "</style>\n",
       "<table border=\"1\" class=\"dataframe\">\n",
       "  <thead>\n",
       "    <tr style=\"text-align: right;\">\n",
       "      <th></th>\n",
       "      <th>awaiting_ranges</th>\n",
       "      <th>count_noshows</th>\n",
       "      <th>total_appointments</th>\n",
       "    </tr>\n",
       "  </thead>\n",
       "  <tbody>\n",
       "    <tr>\n",
       "      <th>0</th>\n",
       "      <td>0-4</td>\n",
       "      <td>6230</td>\n",
       "      <td>56666</td>\n",
       "    </tr>\n",
       "    <tr>\n",
       "      <th>1</th>\n",
       "      <td>5-9</td>\n",
       "      <td>4171</td>\n",
       "      <td>15742</td>\n",
       "    </tr>\n",
       "    <tr>\n",
       "      <th>2</th>\n",
       "      <td>10-14</td>\n",
       "      <td>2475</td>\n",
       "      <td>7833</td>\n",
       "    </tr>\n",
       "    <tr>\n",
       "      <th>3</th>\n",
       "      <td>15-19</td>\n",
       "      <td>1833</td>\n",
       "      <td>5642</td>\n",
       "    </tr>\n",
       "    <tr>\n",
       "      <th>4</th>\n",
       "      <td>20-24</td>\n",
       "      <td>1835</td>\n",
       "      <td>5475</td>\n",
       "    </tr>\n",
       "    <tr>\n",
       "      <th>5</th>\n",
       "      <td>25-29</td>\n",
       "      <td>1638</td>\n",
       "      <td>4973</td>\n",
       "    </tr>\n",
       "    <tr>\n",
       "      <th>6</th>\n",
       "      <td>30-34</td>\n",
       "      <td>1067</td>\n",
       "      <td>3248</td>\n",
       "    </tr>\n",
       "    <tr>\n",
       "      <th>7</th>\n",
       "      <td>35-39</td>\n",
       "      <td>738</td>\n",
       "      <td>2127</td>\n",
       "    </tr>\n",
       "    <tr>\n",
       "      <th>8</th>\n",
       "      <td>40-44</td>\n",
       "      <td>493</td>\n",
       "      <td>1379</td>\n",
       "    </tr>\n",
       "    <tr>\n",
       "      <th>9</th>\n",
       "      <td>45-49</td>\n",
       "      <td>226</td>\n",
       "      <td>676</td>\n",
       "    </tr>\n",
       "    <tr>\n",
       "      <th>10</th>\n",
       "      <td>50-54</td>\n",
       "      <td>162</td>\n",
       "      <td>521</td>\n",
       "    </tr>\n",
       "    <tr>\n",
       "      <th>11</th>\n",
       "      <td>55-59</td>\n",
       "      <td>369</td>\n",
       "      <td>1234</td>\n",
       "    </tr>\n",
       "    <tr>\n",
       "      <th>12</th>\n",
       "      <td>65-69</td>\n",
       "      <td>151</td>\n",
       "      <td>490</td>\n",
       "    </tr>\n",
       "    <tr>\n",
       "      <th>13</th>\n",
       "      <td>70-74</td>\n",
       "      <td>87</td>\n",
       "      <td>283</td>\n",
       "    </tr>\n",
       "    <tr>\n",
       "      <th>14</th>\n",
       "      <td>75-79</td>\n",
       "      <td>79</td>\n",
       "      <td>242</td>\n",
       "    </tr>\n",
       "    <tr>\n",
       "      <th>15</th>\n",
       "      <td>80-84</td>\n",
       "      <td>24</td>\n",
       "      <td>86</td>\n",
       "    </tr>\n",
       "    <tr>\n",
       "      <th>16</th>\n",
       "      <td>85-89</td>\n",
       "      <td>26</td>\n",
       "      <td>91</td>\n",
       "    </tr>\n",
       "    <tr>\n",
       "      <th>17</th>\n",
       "      <td>90-94</td>\n",
       "      <td>25</td>\n",
       "      <td>119</td>\n",
       "    </tr>\n",
       "  </tbody>\n",
       "</table>\n",
       "</div>"
      ],
      "text/plain": [
       "   awaiting_ranges  count_noshows  total_appointments\n",
       "0              0-4           6230               56666\n",
       "1              5-9           4171               15742\n",
       "2            10-14           2475                7833\n",
       "3            15-19           1833                5642\n",
       "4            20-24           1835                5475\n",
       "5            25-29           1638                4973\n",
       "6            30-34           1067                3248\n",
       "7            35-39            738                2127\n",
       "8            40-44            493                1379\n",
       "9            45-49            226                 676\n",
       "10           50-54            162                 521\n",
       "11           55-59            369                1234\n",
       "12           65-69            151                 490\n",
       "13           70-74             87                 283\n",
       "14           75-79             79                 242\n",
       "15           80-84             24                  86\n",
       "16           85-89             26                  91\n",
       "17           90-94             25                 119"
      ]
     },
     "execution_count": 88,
     "metadata": {},
     "output_type": "execute_result"
    }
   ],
   "source": [
    "# adding the totals as new column to our new dataframe\n",
    "df_awaiting_ranges['total_appointments'] = total_appointments\n",
    "df_awaiting_ranges"
   ]
  },
  {
   "cell_type": "code",
   "execution_count": 89,
   "metadata": {},
   "outputs": [],
   "source": [
    "#calculating the percentages of no shows for each awaiting range\n",
    "percent_noshows = []\n",
    "i = 0 \n",
    "\n",
    "while i < df_awaiting_ranges.shape[0]:\n",
    "    percentages = round((df_awaiting_ranges['count_noshows'][i]/df_awaiting_ranges['total_appointments'][i])*100, 2)\n",
    "    percent_noshows.append(percentages)\n",
    "    i += 1"
   ]
  },
  {
   "cell_type": "code",
   "execution_count": 90,
   "metadata": {},
   "outputs": [
    {
     "data": {
      "text/plain": [
       "18"
      ]
     },
     "execution_count": 90,
     "metadata": {},
     "output_type": "execute_result"
    }
   ],
   "source": [
    "# checking the resulted list of percentages\n",
    "len(percent_noshows)"
   ]
  },
  {
   "cell_type": "code",
   "execution_count": 91,
   "metadata": {},
   "outputs": [
    {
     "data": {
      "text/html": [
       "<div>\n",
       "<style scoped>\n",
       "    .dataframe tbody tr th:only-of-type {\n",
       "        vertical-align: middle;\n",
       "    }\n",
       "\n",
       "    .dataframe tbody tr th {\n",
       "        vertical-align: top;\n",
       "    }\n",
       "\n",
       "    .dataframe thead th {\n",
       "        text-align: right;\n",
       "    }\n",
       "</style>\n",
       "<table border=\"1\" class=\"dataframe\">\n",
       "  <thead>\n",
       "    <tr style=\"text-align: right;\">\n",
       "      <th></th>\n",
       "      <th>awaiting_ranges</th>\n",
       "      <th>count_noshows</th>\n",
       "      <th>total_appointments</th>\n",
       "      <th>percent_noshows</th>\n",
       "    </tr>\n",
       "  </thead>\n",
       "  <tbody>\n",
       "    <tr>\n",
       "      <th>0</th>\n",
       "      <td>0-4</td>\n",
       "      <td>6230</td>\n",
       "      <td>56666</td>\n",
       "      <td>10.99</td>\n",
       "    </tr>\n",
       "    <tr>\n",
       "      <th>1</th>\n",
       "      <td>5-9</td>\n",
       "      <td>4171</td>\n",
       "      <td>15742</td>\n",
       "      <td>26.50</td>\n",
       "    </tr>\n",
       "    <tr>\n",
       "      <th>2</th>\n",
       "      <td>10-14</td>\n",
       "      <td>2475</td>\n",
       "      <td>7833</td>\n",
       "      <td>31.60</td>\n",
       "    </tr>\n",
       "    <tr>\n",
       "      <th>3</th>\n",
       "      <td>15-19</td>\n",
       "      <td>1833</td>\n",
       "      <td>5642</td>\n",
       "      <td>32.49</td>\n",
       "    </tr>\n",
       "    <tr>\n",
       "      <th>4</th>\n",
       "      <td>20-24</td>\n",
       "      <td>1835</td>\n",
       "      <td>5475</td>\n",
       "      <td>33.52</td>\n",
       "    </tr>\n",
       "    <tr>\n",
       "      <th>5</th>\n",
       "      <td>25-29</td>\n",
       "      <td>1638</td>\n",
       "      <td>4973</td>\n",
       "      <td>32.94</td>\n",
       "    </tr>\n",
       "    <tr>\n",
       "      <th>6</th>\n",
       "      <td>30-34</td>\n",
       "      <td>1067</td>\n",
       "      <td>3248</td>\n",
       "      <td>32.85</td>\n",
       "    </tr>\n",
       "    <tr>\n",
       "      <th>7</th>\n",
       "      <td>35-39</td>\n",
       "      <td>738</td>\n",
       "      <td>2127</td>\n",
       "      <td>34.70</td>\n",
       "    </tr>\n",
       "    <tr>\n",
       "      <th>8</th>\n",
       "      <td>40-44</td>\n",
       "      <td>493</td>\n",
       "      <td>1379</td>\n",
       "      <td>35.75</td>\n",
       "    </tr>\n",
       "    <tr>\n",
       "      <th>9</th>\n",
       "      <td>45-49</td>\n",
       "      <td>226</td>\n",
       "      <td>676</td>\n",
       "      <td>33.43</td>\n",
       "    </tr>\n",
       "    <tr>\n",
       "      <th>10</th>\n",
       "      <td>50-54</td>\n",
       "      <td>162</td>\n",
       "      <td>521</td>\n",
       "      <td>31.09</td>\n",
       "    </tr>\n",
       "    <tr>\n",
       "      <th>11</th>\n",
       "      <td>55-59</td>\n",
       "      <td>369</td>\n",
       "      <td>1234</td>\n",
       "      <td>29.90</td>\n",
       "    </tr>\n",
       "    <tr>\n",
       "      <th>12</th>\n",
       "      <td>65-69</td>\n",
       "      <td>151</td>\n",
       "      <td>490</td>\n",
       "      <td>30.82</td>\n",
       "    </tr>\n",
       "    <tr>\n",
       "      <th>13</th>\n",
       "      <td>70-74</td>\n",
       "      <td>87</td>\n",
       "      <td>283</td>\n",
       "      <td>30.74</td>\n",
       "    </tr>\n",
       "    <tr>\n",
       "      <th>14</th>\n",
       "      <td>75-79</td>\n",
       "      <td>79</td>\n",
       "      <td>242</td>\n",
       "      <td>32.64</td>\n",
       "    </tr>\n",
       "    <tr>\n",
       "      <th>15</th>\n",
       "      <td>80-84</td>\n",
       "      <td>24</td>\n",
       "      <td>86</td>\n",
       "      <td>27.91</td>\n",
       "    </tr>\n",
       "    <tr>\n",
       "      <th>16</th>\n",
       "      <td>85-89</td>\n",
       "      <td>26</td>\n",
       "      <td>91</td>\n",
       "      <td>28.57</td>\n",
       "    </tr>\n",
       "    <tr>\n",
       "      <th>17</th>\n",
       "      <td>90-94</td>\n",
       "      <td>25</td>\n",
       "      <td>119</td>\n",
       "      <td>21.01</td>\n",
       "    </tr>\n",
       "  </tbody>\n",
       "</table>\n",
       "</div>"
      ],
      "text/plain": [
       "   awaiting_ranges  count_noshows  total_appointments  percent_noshows\n",
       "0              0-4           6230               56666            10.99\n",
       "1              5-9           4171               15742            26.50\n",
       "2            10-14           2475                7833            31.60\n",
       "3            15-19           1833                5642            32.49\n",
       "4            20-24           1835                5475            33.52\n",
       "5            25-29           1638                4973            32.94\n",
       "6            30-34           1067                3248            32.85\n",
       "7            35-39            738                2127            34.70\n",
       "8            40-44            493                1379            35.75\n",
       "9            45-49            226                 676            33.43\n",
       "10           50-54            162                 521            31.09\n",
       "11           55-59            369                1234            29.90\n",
       "12           65-69            151                 490            30.82\n",
       "13           70-74             87                 283            30.74\n",
       "14           75-79             79                 242            32.64\n",
       "15           80-84             24                  86            27.91\n",
       "16           85-89             26                  91            28.57\n",
       "17           90-94             25                 119            21.01"
      ]
     },
     "execution_count": 91,
     "metadata": {},
     "output_type": "execute_result"
    }
   ],
   "source": [
    "# adding the percentages as new column to our new dataframe\n",
    "df_awaiting_ranges['percent_noshows'] = percent_noshows\n",
    "df_awaiting_ranges"
   ]
  },
  {
   "cell_type": "code",
   "execution_count": 92,
   "metadata": {},
   "outputs": [
    {
     "data": {
      "image/png": "[encoded data removed]",
      "text/plain": [
       "<Figure size 1080x360 with 1 Axes>"
      ]
     },
     "metadata": {
      "needs_background": "light"
     },
     "output_type": "display_data"
    }
   ],
   "source": [
    "fig, ax = plt.subplots(figsize=(15,5))\n",
    "plt.bar(df_awaiting_ranges['awaiting_ranges'] , height=df_awaiting_ranges['percent_noshows'], width=0.7, color=['navajowhite','lightsteelblue'])\n",
    "plt.xlabel('Awaiting Days',fontsize=12)\n",
    "plt.ylabel('% of No-Shows',fontsize=12)\n",
    "plt.title('Percentages of No-Shows Vs Awaiting Days',fontsize=15)  \n",
    "plt.show()"
   ]
  },
  {
   "cell_type": "code",
   "execution_count": 93,
   "metadata": {},
   "outputs": [
    {
     "data": {
      "image/png": "[encoded data removed]",
      "text/plain": [
       "<Figure size 1080x360 with 1 Axes>"
      ]
     },
     "metadata": {
      "needs_background": "light"
     },
     "output_type": "display_data"
    }
   ],
   "source": [
    "fig, ax = plt.subplots(figsize=(15,5))\n",
    "awaiting_days = df_awaiting_days1['awaiting_days']\n",
    "count = df_awaiting_days1['count_noshows']\n",
    "plt.scatter(x= awaiting_days, y= count, color='lightsteelblue')\n",
    "plt.xlabel('Awaiting Days',fontsize=12)\n",
    "plt.ylabel('Number of No-Shows',fontsize=12)\n",
    "plt.title('No-Shows Vs Awaiting Days',fontsize=15)\n",
    "plt.show()"
   ]
  },
  {
   "cell_type": "markdown",
   "metadata": {},
   "source": [
    "### 3) Do patients receiving SMS reminders have more probability to show up for their appointments than those who have not received the SMS reminders?"
   ]
  },
  {
   "cell_type": "code",
   "execution_count": 94,
   "metadata": {},
   "outputs": [
    {
     "data": {
      "text/plain": [
       "(106982, 2)"
      ]
     },
     "execution_count": 94,
     "metadata": {},
     "output_type": "execute_result"
    }
   ],
   "source": [
    "# extracting specific selected columns to new DataFrame as a copy to facilitate the analysis \n",
    "df_SMS = df[['SMS_received','appointment_missed']].copy()\n",
    "\n",
    "df_SMS.shape"
   ]
  },
  {
   "cell_type": "code",
   "execution_count": 95,
   "metadata": {},
   "outputs": [
    {
     "data": {
      "text/html": [
       "<div>\n",
       "<style scoped>\n",
       "    .dataframe tbody tr th:only-of-type {\n",
       "        vertical-align: middle;\n",
       "    }\n",
       "\n",
       "    .dataframe tbody tr th {\n",
       "        vertical-align: top;\n",
       "    }\n",
       "\n",
       "    .dataframe thead th {\n",
       "        text-align: right;\n",
       "    }\n",
       "</style>\n",
       "<table border=\"1\" class=\"dataframe\">\n",
       "  <thead>\n",
       "    <tr style=\"text-align: right;\">\n",
       "      <th></th>\n",
       "      <th>SMS_received</th>\n",
       "      <th>count_noshows</th>\n",
       "    </tr>\n",
       "  </thead>\n",
       "  <tbody>\n",
       "    <tr>\n",
       "      <th>0</th>\n",
       "      <td>0</td>\n",
       "      <td>12109</td>\n",
       "    </tr>\n",
       "    <tr>\n",
       "      <th>1</th>\n",
       "      <td>1</td>\n",
       "      <td>9568</td>\n",
       "    </tr>\n",
       "  </tbody>\n",
       "</table>\n",
       "</div>"
      ],
      "text/plain": [
       "   SMS_received  count_noshows\n",
       "0             0          12109\n",
       "1             1           9568"
      ]
     },
     "execution_count": 95,
     "metadata": {},
     "output_type": "execute_result"
    }
   ],
   "source": [
    "df_SMS= df_SMS.groupby('SMS_received')['appointment_missed'].sum().reset_index(name=\"count_noshows\")\n",
    "df_SMS"
   ]
  },
  {
   "cell_type": "code",
   "execution_count": 96,
   "metadata": {},
   "outputs": [],
   "source": [
    "# adding a new column to hold the \"total numbers of appointments\" \n",
    "df_SMS_total= df.groupby(['SMS_received']).appointment_missed.count().reset_index(name=\"total_appointments\")"
   ]
  },
  {
   "cell_type": "code",
   "execution_count": 97,
   "metadata": {},
   "outputs": [
    {
     "data": {
      "text/plain": [
       "106982"
      ]
     },
     "execution_count": 97,
     "metadata": {},
     "output_type": "execute_result"
    }
   ],
   "source": [
    "df_SMS_total['total_appointments'].sum()"
   ]
  },
  {
   "cell_type": "code",
   "execution_count": 98,
   "metadata": {},
   "outputs": [
    {
     "data": {
      "text/plain": [
       "2"
      ]
     },
     "execution_count": 98,
     "metadata": {},
     "output_type": "execute_result"
    }
   ],
   "source": [
    "# creating a list of the total numbers of appointmens for patients who recieved SMS and those who did not \n",
    "total_appointments = []\n",
    "i = 0 \n",
    "\n",
    "while i < df_SMS_total.shape[0]:\n",
    "    total_appointments.append(df_SMS_total['total_appointments'][i])\n",
    "    i += 1\n",
    "    \n",
    "len(total_appointments)"
   ]
  },
  {
   "cell_type": "code",
   "execution_count": 99,
   "metadata": {},
   "outputs": [
    {
     "data": {
      "text/html": [
       "<div>\n",
       "<style scoped>\n",
       "    .dataframe tbody tr th:only-of-type {\n",
       "        vertical-align: middle;\n",
       "    }\n",
       "\n",
       "    .dataframe tbody tr th {\n",
       "        vertical-align: top;\n",
       "    }\n",
       "\n",
       "    .dataframe thead th {\n",
       "        text-align: right;\n",
       "    }\n",
       "</style>\n",
       "<table border=\"1\" class=\"dataframe\">\n",
       "  <thead>\n",
       "    <tr style=\"text-align: right;\">\n",
       "      <th></th>\n",
       "      <th>SMS_received</th>\n",
       "      <th>count_noshows</th>\n",
       "      <th>total_appointments</th>\n",
       "    </tr>\n",
       "  </thead>\n",
       "  <tbody>\n",
       "    <tr>\n",
       "      <th>0</th>\n",
       "      <td>0</td>\n",
       "      <td>12109</td>\n",
       "      <td>72398</td>\n",
       "    </tr>\n",
       "    <tr>\n",
       "      <th>1</th>\n",
       "      <td>1</td>\n",
       "      <td>9568</td>\n",
       "      <td>34584</td>\n",
       "    </tr>\n",
       "  </tbody>\n",
       "</table>\n",
       "</div>"
      ],
      "text/plain": [
       "   SMS_received  count_noshows  total_appointments\n",
       "0             0          12109               72398\n",
       "1             1           9568               34584"
      ]
     },
     "execution_count": 99,
     "metadata": {},
     "output_type": "execute_result"
    }
   ],
   "source": [
    "# adding the totals as new column to our new dataframe\n",
    "df_SMS['total_appointments'] = total_appointments\n",
    "df_SMS"
   ]
  },
  {
   "cell_type": "code",
   "execution_count": 100,
   "metadata": {},
   "outputs": [
    {
     "data": {
      "text/plain": [
       "[60289, 25016]"
      ]
     },
     "execution_count": 100,
     "metadata": {},
     "output_type": "execute_result"
    }
   ],
   "source": [
    "# creating a list of the total numbers of appointmens attended for patients who recieved SMS and those who did not \n",
    "count_show_ups= []\n",
    "i = 0 \n",
    "\n",
    "while i < df_SMS.shape[0]:\n",
    "    show_ups = df_SMS['total_appointments'][i]- df_SMS['count_noshows'][i]\n",
    "    count_show_ups.append(show_ups)\n",
    "    i += 1\n",
    "    \n",
    "count_show_ups"
   ]
  },
  {
   "cell_type": "code",
   "execution_count": 101,
   "metadata": {},
   "outputs": [
    {
     "data": {
      "text/html": [
       "<div>\n",
       "<style scoped>\n",
       "    .dataframe tbody tr th:only-of-type {\n",
       "        vertical-align: middle;\n",
       "    }\n",
       "\n",
       "    .dataframe tbody tr th {\n",
       "        vertical-align: top;\n",
       "    }\n",
       "\n",
       "    .dataframe thead th {\n",
       "        text-align: right;\n",
       "    }\n",
       "</style>\n",
       "<table border=\"1\" class=\"dataframe\">\n",
       "  <thead>\n",
       "    <tr style=\"text-align: right;\">\n",
       "      <th></th>\n",
       "      <th>SMS_received</th>\n",
       "      <th>attended_appointments</th>\n",
       "      <th>total_appointments</th>\n",
       "    </tr>\n",
       "  </thead>\n",
       "  <tbody>\n",
       "    <tr>\n",
       "      <th>0</th>\n",
       "      <td>0</td>\n",
       "      <td>60289</td>\n",
       "      <td>72398</td>\n",
       "    </tr>\n",
       "    <tr>\n",
       "      <th>1</th>\n",
       "      <td>1</td>\n",
       "      <td>25016</td>\n",
       "      <td>34584</td>\n",
       "    </tr>\n",
       "  </tbody>\n",
       "</table>\n",
       "</div>"
      ],
      "text/plain": [
       "   SMS_received  attended_appointments  total_appointments\n",
       "0             0                  60289               72398\n",
       "1             1                  25016               34584"
      ]
     },
     "execution_count": 101,
     "metadata": {},
     "output_type": "execute_result"
    }
   ],
   "source": [
    "# renaming the 'count_noshows' column in the 'df_SMS' datframe\n",
    "df_SMS.rename(columns={'count_noshows':'attended_appointments'},inplace = True)\n",
    "\n",
    "# adding the totals as new column to our new dataframe\n",
    "df_SMS['attended_appointments'] = count_show_ups\n",
    "df_SMS"
   ]
  },
  {
   "cell_type": "code",
   "execution_count": 102,
   "metadata": {},
   "outputs": [],
   "source": [
    "#calculating the percentages of attended_appointments for patients who recieved SMS and those who did not\n",
    "percent_shows = []\n",
    "percent_noshows = []\n",
    "i = 0 \n",
    "\n",
    "while i < df_SMS.shape[0]:\n",
    "    perc_shows = round((df_SMS['attended_appointments'][i]/df_SMS['total_appointments'][i])*100, 2)\n",
    "    count_noshows = df_SMS['total_appointments'][i]- df_SMS['attended_appointments'][i]\n",
    "    perc_noshows = round((count_noshows/df_SMS['total_appointments'][i])*100, 2)\n",
    "    percent_shows.append(perc_shows)\n",
    "    percent_noshows.append(perc_noshows)\n",
    "    i += 1"
   ]
  },
  {
   "cell_type": "code",
   "execution_count": 103,
   "metadata": {},
   "outputs": [
    {
     "name": "stdout",
     "output_type": "stream",
     "text": [
      "[83.27, 72.33]\n",
      "[16.73, 27.67]\n"
     ]
    }
   ],
   "source": [
    "print(percent_shows)\n",
    "print(percent_noshows)"
   ]
  },
  {
   "cell_type": "code",
   "execution_count": 104,
   "metadata": {},
   "outputs": [
    {
     "data": {
      "text/html": [
       "<div>\n",
       "<style scoped>\n",
       "    .dataframe tbody tr th:only-of-type {\n",
       "        vertical-align: middle;\n",
       "    }\n",
       "\n",
       "    .dataframe tbody tr th {\n",
       "        vertical-align: top;\n",
       "    }\n",
       "\n",
       "    .dataframe thead th {\n",
       "        text-align: right;\n",
       "    }\n",
       "</style>\n",
       "<table border=\"1\" class=\"dataframe\">\n",
       "  <thead>\n",
       "    <tr style=\"text-align: right;\">\n",
       "      <th></th>\n",
       "      <th>SMS_received</th>\n",
       "      <th>attended_appointments</th>\n",
       "      <th>total_appointments</th>\n",
       "      <th>percent_shows</th>\n",
       "      <th>percent_noshows</th>\n",
       "    </tr>\n",
       "  </thead>\n",
       "  <tbody>\n",
       "    <tr>\n",
       "      <th>0</th>\n",
       "      <td>0</td>\n",
       "      <td>60289</td>\n",
       "      <td>72398</td>\n",
       "      <td>83.27</td>\n",
       "      <td>16.73</td>\n",
       "    </tr>\n",
       "    <tr>\n",
       "      <th>1</th>\n",
       "      <td>1</td>\n",
       "      <td>25016</td>\n",
       "      <td>34584</td>\n",
       "      <td>72.33</td>\n",
       "      <td>27.67</td>\n",
       "    </tr>\n",
       "  </tbody>\n",
       "</table>\n",
       "</div>"
      ],
      "text/plain": [
       "   SMS_received  attended_appointments  total_appointments  percent_shows  \\\n",
       "0             0                  60289               72398          83.27   \n",
       "1             1                  25016               34584          72.33   \n",
       "\n",
       "   percent_noshows  \n",
       "0            16.73  \n",
       "1            27.67  "
      ]
     },
     "execution_count": 104,
     "metadata": {},
     "output_type": "execute_result"
    }
   ],
   "source": [
    "# adding the percentages of both shows and no-shows as new columns to our dataframe\n",
    "df_SMS['percent_shows'] = percent_shows\n",
    "df_SMS['percent_noshows'] = percent_noshows\n",
    "df_SMS"
   ]
  },
  {
   "cell_type": "code",
   "execution_count": 105,
   "metadata": {
    "scrolled": false
   },
   "outputs": [
    {
     "data": {
      "image/png": "[encoded data removed]",
      "text/plain": [
       "<Figure size 1080x360 with 1 Axes>"
      ]
     },
     "metadata": {
      "needs_background": "light"
     },
     "output_type": "display_data"
    }
   ],
   "source": [
    "font = {'size': 9 }\n",
    "fig, ax = plt.subplots(figsize=(15,5))\n",
    "status = ['No','Yes']\n",
    "plt.bar(status , height=df_SMS['percent_shows'], width=0.7, color=['navajowhite','lightsteelblue'])\n",
    "plt.xlabel('SMS Received',fontsize=15)\n",
    "plt.ylabel('% of Attended Appointments',fontsize=15)\n",
    "plt.title('Attended Appointments Vs Receiving SMS',fontsize=19)\n",
    "plt.rc('font', **font)\n",
    "plt.show()"
   ]
  },
  {
   "cell_type": "markdown",
   "metadata": {},
   "source": [
    "<a id='step6'></a>\n",
    "## Step 6: Deployment"
   ]
  },
  {
   "cell_type": "code",
   "execution_count": 106,
   "metadata": {},
   "outputs": [],
   "source": [
    "## Not applicable for the type of analysis done on this project"
   ]
  },
  {
   "cell_type": "markdown",
   "metadata": {
    "collapsed": true
   },
   "source": [
    "<a id='resources'></a>\n",
    "## Resources"
   ]
  },
  {
   "cell_type": "markdown",
   "metadata": {},
   "source": [
    "- https://www.kaggle.com/joniarroba/noshowappointments **(DataSet Resource)**\n",
    "- https://pandas.pydata.org/pandas-docs/stable/reference/api/pandas.Timestamp.isoweekday.html\n",
    "- https://www.freecodecamp.org/forum/t/python-pandas-how-do-i-get-the-length-of-arrays-that-are-values-of-a-column/22772\n",
    "- https://pyformat.info/\n",
    "- https://pandas.pydata.org/pandas-docs/stable/reference/api/pandas.get_dummies.html\n",
    "- https://datascience.stackexchange.com/questions/27900/nominal-categorical-variable-with-two-levels-label-encoding-or-one-hot-encoding\n",
    "- https://pandas.pydata.org/pandas-docs/stable/reference/api/pandas.DataFrame.dropna.html\n",
    "- https://www.geeksforgeeks.org/python-ways-to-create-a-dictionary-of-lists/\n",
    "- https://treyhunner.com/2016/04/how-to-loop-with-indexes-in-python/\n",
    "- https://stackoverflow.com/questions/43560801/display-y-axis-value-horizontal-line-drawn-in-bar-chart?rq=1\n",
    "- https://github.com/paulstancliffe/Blog-Post-AirBnB-Seattle/blob/master/seattle_airbnb-v2.ipynb\n",
    "- https://stackoverflow.com/questions/11346283/renaming-columns-in-pandas\n",
    "- https://stackoverflow.com/questions/43855474/changing-sort-in-value-counts\n",
    "- https://stackoverflow.com/questions/34682828/extracting-specific-selected-columns-to-new-dataframe-as-a-copy\n",
    "- https://stackoverflow.com/questions/21254472/multiple-plot-in-one-figure-in-python"
   ]
  }
 ],
 "metadata": {
  "kernelspec": {
   "display_name": "Python 3",
   "language": "python",
   "name": "python3"
  },
  "language_info": {
   "codemirror_mode": {
    "name": "ipython",
    "version": 3
   },
   "file_extension": ".py",
   "mimetype": "text/x-python",
   "name": "python",
   "nbconvert_exporter": "python",
   "pygments_lexer": "ipython3",
   "version": "3.7.1"
  }
 },
 "nbformat": 4,
 "nbformat_minor": 2
}
